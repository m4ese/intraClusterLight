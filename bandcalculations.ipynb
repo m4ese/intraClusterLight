{
 "cells": [
  {
   "cell_type": "code",
   "execution_count": 29,
   "metadata": {},
   "outputs": [],
   "source": [
    "DENOM = 1.16"
   ]
  },
  {
   "cell_type": "code",
   "execution_count": 30,
   "metadata": {},
   "outputs": [],
   "source": [
    "def term1(brgtE):\n",
    "    ''' calculates the first term of the fraction (aka the integral from 1 to infinity)\n",
    "    \n",
    "    Parameter: brgtE is the percentage of bright elliptical galaxies'''\n",
    "    \n",
    "    brgtS = 1- brgtE\n",
    "    term1 = 0.25 * (brgtE*100 + brgtS*50)\n",
    "    print('Bright Mass = {}'.format(term1))\n",
    "    return term1"
   ]
  },
  {
   "cell_type": "code",
   "execution_count": 31,
   "metadata": {},
   "outputs": [],
   "source": [
    "def term2(ftE, ftM):\n",
    "    ''' calculates the second term of the fraction (aka the integral to 1)\n",
    "    \n",
    "    Parameters: ftE \n",
    "    the percentage of faint elliptical galaxies\n",
    "    \n",
    "    ftM:\n",
    "    faint mass calculated in the integral'''\n",
    "    \n",
    "    \n",
    "    ftS = 1 - ftE\n",
    "    \n",
    "    term2 = (ftM*ftS + 2*ftM*ftE)\n",
    "    \n",
    "    print('Faint Mass = {}'.format(term2))\n",
    "    return term2"
   ]
  },
  {
   "cell_type": "code",
   "execution_count": 32,
   "metadata": {},
   "outputs": [],
   "source": [
    "def galm2L(brgtE, ftE, ftM):\n",
    "    \n",
    "    return (term1(brgtE) + term2(ftE, ftM))/DENOM"
   ]
  },
  {
   "cell_type": "code",
   "execution_count": 33,
   "metadata": {},
   "outputs": [],
   "source": [
    "def addgas(m2L):\n",
    "    '''adds 15% mass to the current mass to light ratio to account for gas'''\n",
    "    \n",
    "    GASPCT = 0.15\n",
    "    m3L = m2L*0.15 + m2L\n",
    "    return m3L"
   ]
  },
  {
   "cell_type": "code",
   "execution_count": 34,
   "metadata": {},
   "outputs": [],
   "source": [
    "# two different values for the spiral mass in the second integral term\n",
    "\n",
    "case1 = 129.64 # integrated from 0.001 to 0.19\n",
    "case2 = 144.01 # integrated from 0.0001 to 0.19\n",
    "case3 = 161 # from 0 to 1\n"
   ]
  },
  {
   "cell_type": "code",
   "execution_count": 35,
   "metadata": {},
   "outputs": [
    {
     "name": "stdout",
     "output_type": "stream",
     "text": [
      "CLUSTER (HIGH DENSITY) CASE\n",
      "\n",
      "CASE 1\n",
      "\n",
      "Bright Mass = 23.75\n",
      "Faint Mass = 194.45999999999998\n",
      "cluster mass to light in case 1 = 188.11206896551724\n",
      "plus 15% gas = 216.32887931034483\n",
      "\n",
      "CASE 2 \n",
      "\n",
      "Bright Mass = 23.75\n",
      "Faint Mass = 216.015\n",
      "cluster mass to light in case 2 = 206.6939655172414\n",
      "plus 15% gas = 237.6980603448276\n",
      "CASE 3 \n",
      "\n",
      "Bright Mass = 23.75\n",
      "Faint Mass = 241.5\n",
      "cluster mass to light in case 3 = 228.66379310344828\n",
      "plus 15% gas = 262.9633620689655\n"
     ]
    }
   ],
   "source": [
    "# case for clusters (high density)\n",
    "print('CLUSTER (HIGH DENSITY) CASE')\n",
    "print()\n",
    "\n",
    "pctBE = 0.9\n",
    "pctFE = 0.5\n",
    "\n",
    "print('CASE 1')\n",
    "print()\n",
    "cluster1 = galm2L(pctBE, pctFE, case1) # cluster mass to light in case 1\n",
    "print('cluster mass to light in case 1 = {}'.format(cluster1))\n",
    "print('plus 15% gas = {}'.format(addgas(cluster1)))\n",
    "print()\n",
    "\n",
    "\n",
    "print('CASE 2 \\n')\n",
    "cluster2 = galm2L(pctBE, pctFE, case2) # cluster mass to light in case 2\n",
    "print('cluster mass to light in case 2 = {}'.format(cluster2))\n",
    "print('plus 15% gas = {}'.format(addgas(cluster2)))\n",
    "\n",
    "print('CASE 3 \\n')\n",
    "cluster3 = galm2L(pctBE, pctFE, case3) # cluster mass to light in case 3\n",
    "print('cluster mass to light in case 3 = {}'.format(cluster3))\n",
    "print('plus 15% gas = {}'.format(addgas(cluster3)))"
   ]
  },
  {
   "cell_type": "code",
   "execution_count": 36,
   "metadata": {},
   "outputs": [
    {
     "name": "stdout",
     "output_type": "stream",
     "text": [
      "LSS (LOW DENSITY) CASE with 30% BRIGHT ELLIPTICALS and 20% FAINT ELLIPTICALS \n",
      "\n",
      "CASE 1 \n",
      "\n",
      "Bright Mass = 16.25\n",
      "Faint Mass = 155.56799999999998\n",
      "LSS mass to light in case 1 with 30% bright and 20% faint ellipticals  = 148.11896551724138\n",
      "plus 15% gas = 170.3368103448276\n",
      "\n",
      "CASE 2 \n",
      "\n",
      "Bright Mass = 16.25\n",
      "Faint Mass = 172.812\n",
      "cluster mass to light in case 2 with 30% bright and 20% faint ellipticals= 162.98448275862071\n",
      "plus 15% gas = 187.43215517241381\n",
      "\n",
      "CASE 3 \n",
      "\n",
      "Bright Mass = 16.25\n",
      "Faint Mass = 193.20000000000002\n",
      "cluster mass to light in case 3 with 30% bright and 20% faint ellipticals= 180.56034482758622\n",
      "plus 15% gas = 207.64439655172416\n"
     ]
    }
   ],
   "source": [
    "# a few cases for LSS (lower density)\n",
    "print('LSS (LOW DENSITY) CASE with 30% BRIGHT ELLIPTICALS and 20% FAINT ELLIPTICALS \\n')\n",
    "\n",
    "pctLSSB1 = 0.30\n",
    "pctLSSF1 = 0.20\n",
    "\n",
    "print('CASE 1 \\n')\n",
    "LSS1 = galm2L(pctLSSB1, pctLSSF1, case1) # cluster mass to light in case 1\n",
    "print('LSS mass to light in case 1 with 30% bright and 20% faint ellipticals  = {}'.format(LSS1))\n",
    "print('plus 15% gas = {}'.format(addgas(LSS1)))\n",
    "print()\n",
    "\n",
    "print('CASE 2 \\n')\n",
    "LSS2 = galm2L(pctLSSB1, pctLSSF1, case2) # cluster mass to light in case 2\n",
    "print('cluster mass to light in case 2 with 30% bright and 20% faint ellipticals= {}'.format(LSS2))\n",
    "print('plus 15% gas = {}'.format(addgas(LSS2)))\n",
    "print()\n",
    "\n",
    "print('CASE 3 \\n')\n",
    "LSS3 = galm2L(pctLSSB1, pctLSSF1, case3) # cluster mass to light in case 2\n",
    "print('cluster mass to light in case 3 with 30% bright and 20% faint ellipticals= {}'.format(LSS3))\n",
    "print('plus 15% gas = {}'.format(addgas(LSS3)))"
   ]
  },
  {
   "cell_type": "code",
   "execution_count": 37,
   "metadata": {},
   "outputs": [
    {
     "name": "stdout",
     "output_type": "stream",
     "text": [
      "LSS (LOW DENSITY) CASE with 20% BRIGHT ELLIPTICALS and 20% FAINT ELLIPTICALS \n",
      "\n",
      "CASE 1 \n",
      "\n",
      "Bright Mass = 15.0\n",
      "Faint Mass = 155.56799999999998\n",
      "LSS mass to light in case 1 with 20% bright and 20% faint ellipticals  = 147.04137931034484\n",
      "plus 15% gas = 169.09758620689655\n",
      "\n",
      "CASE 2 \n",
      "\n",
      "Bright Mass = 15.0\n",
      "Faint Mass = 172.812\n",
      "LSS mass to light in case 2 with 20% bright and 20% faint ellipticals= 161.90689655172415\n",
      "plus 15% gas = 186.19293103448277\n",
      "\n",
      "CASE 3 \n",
      "\n",
      "Bright Mass = 15.0\n",
      "Faint Mass = 193.20000000000002\n",
      "LSS mass to light in case 3 with 20% bright and 20% faint ellipticals= 179.48275862068968\n",
      "plus 15% gas = 206.40517241379314\n"
     ]
    }
   ],
   "source": [
    "print('LSS (LOW DENSITY) CASE with 20% BRIGHT ELLIPTICALS and 20% FAINT ELLIPTICALS \\n')\n",
    "\n",
    "pctLSSB2 = 0.20\n",
    "pctLSSF2 = 0.20\n",
    "\n",
    "print('CASE 1 \\n')\n",
    "LSS3 = galm2L(pctLSSB2, pctLSSF2, case1) # cluster mass to light in case 1\n",
    "print('LSS mass to light in case 1 with 20% bright and 20% faint ellipticals  = {}'.format(LSS3))\n",
    "print('plus 15% gas = {}'.format(addgas(LSS3)))\n",
    "print()\n",
    "\n",
    "print('CASE 2 \\n')\n",
    "LSS4 = galm2L(pctLSSB2, pctLSSF2, case2) # cluster mass to light in case 2\n",
    "print('LSS mass to light in case 2 with 20% bright and 20% faint ellipticals= {}'.format(LSS4))\n",
    "print('plus 15% gas = {}'.format(addgas(LSS4)))\n",
    "print()\n",
    "\n",
    "print('CASE 3 \\n')\n",
    "LSS5 = galm2L(pctLSSB2, pctLSSF2, case3) # cluster mass to light in case 2\n",
    "print('LSS mass to light in case 3 with 20% bright and 20% faint ellipticals= {}'.format(LSS5))\n",
    "print('plus 15% gas = {}'.format(addgas(LSS5)))\n"
   ]
  },
  {
   "cell_type": "code",
   "execution_count": 38,
   "metadata": {},
   "outputs": [
    {
     "name": "stdout",
     "output_type": "stream",
     "text": [
      "LSS (LOW DENSITY) CASE with 30% BRIGHT ELLIPTICALS and 30% FAINT ELLIPTICALS \n",
      "\n",
      "CASE 1 \n",
      "\n",
      "Bright Mass = 16.25\n",
      "Faint Mass = 168.53199999999998\n",
      "LSS mass to light in case 1 with 30% bright and 30% faint ellipticals  = 159.29482758620688\n",
      "plus 15% gas = 183.1890517241379\n",
      "\n",
      "CASE 2 \n",
      "\n",
      "Bright Mass = 16.25\n",
      "Faint Mass = 187.21299999999997\n",
      "LSS mass to light in case 2 with 30% bright and 30% faint ellipticals= 175.39913793103446\n",
      "plus 15% gas = 201.70900862068962\n",
      "\n",
      "CASE 3 \n",
      "\n",
      "Bright Mass = 16.25\n",
      "Faint Mass = 209.29999999999998\n",
      "LSS mass to light in case 3 with 30% bright and 30% faint ellipticals= 194.43965517241378\n",
      "plus 15% gas = 223.60560344827584\n"
     ]
    }
   ],
   "source": [
    "print('LSS (LOW DENSITY) CASE with 30% BRIGHT ELLIPTICALS and 30% FAINT ELLIPTICALS \\n')\n",
    "\n",
    "pctLSSB3 = 0.30\n",
    "pctLSSF3 = 0.30\n",
    "\n",
    "print('CASE 1 \\n')\n",
    "LSS6 = galm2L(pctLSSB3, pctLSSF3, case1) # cluster mass to light in case 1\n",
    "print('LSS mass to light in case 1 with 30% bright and 30% faint ellipticals  = {}'.format(LSS6))\n",
    "print('plus 15% gas = {}'.format(addgas(LSS6)))\n",
    "print()\n",
    "\n",
    "print('CASE 2 \\n')\n",
    "LSS7 = galm2L(pctLSSB3, pctLSSF3, case2) # cluster mass to light in case 2\n",
    "print('LSS mass to light in case 2 with 30% bright and 30% faint ellipticals= {}'.format(LSS7))\n",
    "print('plus 15% gas = {}'.format(addgas(LSS7)))\n",
    "print()\n",
    "\n",
    "print('CASE 3 \\n')\n",
    "LSS8 = galm2L(pctLSSB3, pctLSSF3, case3) # cluster mass to light in case 2\n",
    "print('LSS mass to light in case 3 with 30% bright and 30% faint ellipticals= {}'.format(LSS8))\n",
    "print('plus 15% gas = {}'.format(addgas(LSS8)))"
   ]
  },
  {
   "cell_type": "code",
   "execution_count": 39,
   "metadata": {},
   "outputs": [
    {
     "name": "stdout",
     "output_type": "stream",
     "text": [
      "CASE 1 \n",
      "\n",
      "Bright Mass = 23.75\n",
      "Faint Mass = 226.86999999999998\n",
      "Cluster mass to light in case 1 with 90% bright and 75% faint ellipticals  = 216.05172413793102\n",
      "plus 15% gas = 248.45948275862065\n",
      "\n",
      "CASE 2 \n",
      "\n",
      "Bright Mass = 23.75\n",
      "Faint Mass = 252.01749999999998\n",
      "Cluster mass to light in case 2 with 90% bright and 75% faint ellipticals  = 237.73060344827587\n",
      "plus 15% gas = 273.39019396551726\n",
      "\n",
      "CASE 3 \n",
      "\n",
      "Bright Mass = 23.75\n",
      "Faint Mass = 281.75\n",
      "Cluster mass to light in case 3 with 90% bright and 75% faint ellipticals  = 263.36206896551727\n",
      "plus 15% gas = 302.8663793103449\n",
      "\n"
     ]
    }
   ],
   "source": [
    "# another cluster case\n",
    "pctBE9 = 0.9\n",
    "pctFE9 = 0.75\n",
    "\n",
    "print('CASE 1 \\n')\n",
    "BE9 = galm2L(pctBE9, pctFE9, case1) # cluster mass to light in case 1\n",
    "print('Cluster mass to light in case 1 with 90% bright and 75% faint ellipticals  = {}'.format(BE9))\n",
    "print('plus 15% gas = {}'.format(addgas(BE9)))\n",
    "print()\n",
    "\n",
    "print('CASE 2 \\n')\n",
    "BE92 = galm2L(pctBE9, pctFE9, case2) # cluster mass to light in case 2\n",
    "print('Cluster mass to light in case 2 with 90% bright and 75% faint ellipticals  = {}'.format(BE92))\n",
    "print('plus 15% gas = {}'.format(addgas(BE92)))\n",
    "print()\n",
    "\n",
    "print('CASE 3 \\n')\n",
    "BE93 = galm2L(pctBE9, pctFE9, case3) # cluster mass to light in case 3\n",
    "print('Cluster mass to light in case 3 with 90% bright and 75% faint ellipticals  = {}'.format(BE93))\n",
    "print('plus 15% gas = {}'.format(addgas(BE93)))\n",
    "print()"
   ]
  }
 ],
 "metadata": {
  "kernelspec": {
   "display_name": "Python 3",
   "language": "python",
   "name": "python3"
  },
  "language_info": {
   "codemirror_mode": {
    "name": "ipython",
    "version": 3
   },
   "file_extension": ".py",
   "mimetype": "text/x-python",
   "name": "python",
   "nbconvert_exporter": "python",
   "pygments_lexer": "ipython3",
   "version": "3.7.3"
  }
 },
 "nbformat": 4,
 "nbformat_minor": 2
}
