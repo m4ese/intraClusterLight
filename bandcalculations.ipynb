{
 "cells": [
  {
   "cell_type": "code",
   "execution_count": 18,
   "metadata": {},
   "outputs": [],
   "source": [
    "DENOM = 1.16"
   ]
  },
  {
   "cell_type": "code",
   "execution_count": 19,
   "metadata": {},
   "outputs": [],
   "source": [
    "def term1(brgtE):\n",
    "    ''' calculates the first term of the fraction (aka the integral from 1 to infinity)\n",
    "    \n",
    "    Parameter: brgtE is the percentage of bright elliptical galaxies'''\n",
    "    \n",
    "    brgtS = 1- brgtE\n",
    "    #term1 = 0.25 * (brgtE*100 + brgtS*50)\n",
    "    term1 = 0.328 * (brgtE*100 + brgtS*50)\n",
    "    print('Bright Mass = {}'.format(term1))\n",
    "    return term1"
   ]
  },
  {
   "cell_type": "code",
   "execution_count": 20,
   "metadata": {},
   "outputs": [],
   "source": [
    "def term2(ftE, ftM=1):\n",
    "    ''' calculates the second term of the fraction (aka the integral to 1)\n",
    "    \n",
    "    Parameters: ftE \n",
    "    the percentage of faint elliptical galaxies\n",
    "    \n",
    "    ftM:\n",
    "    faint mass calculated in the integral'''\n",
    "    \n",
    "    \n",
    "    ftS = 1 - ftE\n",
    "    \n",
    "    #term2 = (ftM*ftS + 2*ftM*ftE)\n",
    "    term2 = 3.23*(50*ftS + 100*ftE)\n",
    "    \n",
    "    print('Faint Mass = {}'.format(term2))\n",
    "    return term2"
   ]
  },
  {
   "cell_type": "code",
   "execution_count": 21,
   "metadata": {},
   "outputs": [],
   "source": [
    "def galm2L(brgtE, ftE, ftM):\n",
    "    \n",
    "    return (term1(brgtE) + term2(ftE, ftM))/DENOM"
   ]
  },
  {
   "cell_type": "code",
   "execution_count": 22,
   "metadata": {},
   "outputs": [],
   "source": [
    "def addgas(m2L):\n",
    "    '''adds 15% mass to the current mass to light ratio to account for gas'''\n",
    "    \n",
    "    GASPCT = 0.15\n",
    "    m3L = m2L*0.15 + m2L\n",
    "    return m3L"
   ]
  },
  {
   "cell_type": "code",
   "execution_count": 23,
   "metadata": {},
   "outputs": [],
   "source": [
    "# two different values for the spiral mass in the second integral term\n",
    "\n",
    "case1 = 129.64 # integrated from 0.001 to 0.19\n",
    "case2 = 144.01 # integrated from 0.0001 to 0.19\n",
    "case3 = 161 # from 0 to 1\n"
   ]
  },
  {
   "cell_type": "code",
   "execution_count": 24,
   "metadata": {},
   "outputs": [
    {
     "name": "stdout",
     "output_type": "stream",
     "text": [
      "CLUSTER (HIGH DENSITY) CASE\n",
      "\n",
      "CASE 1\n",
      "\n",
      "Bright Mass = 31.16\n",
      "Faint Mass = 242.25\n",
      "cluster mass to light in case 1 = 235.698275862069\n",
      "plus 15% gas = 271.05301724137934\n",
      "\n",
      "CASE 2 \n",
      "\n",
      "Bright Mass = 31.16\n",
      "Faint Mass = 242.25\n",
      "cluster mass to light in case 2 = 235.698275862069\n",
      "plus 15% gas = 271.05301724137934\n",
      "CASE 3 \n",
      "\n",
      "Bright Mass = 31.16\n",
      "Faint Mass = 242.25\n",
      "cluster mass to light in case 3 = 235.698275862069\n",
      "plus 15% gas = 271.05301724137934\n"
     ]
    }
   ],
   "source": [
    "# case for clusters (high density)\n",
    "print('CLUSTER (HIGH DENSITY) CASE')\n",
    "print()\n",
    "\n",
    "pctBE = 0.9\n",
    "pctFE = 0.5\n",
    "\n",
    "print('CASE 1')\n",
    "print()\n",
    "cluster1 = galm2L(pctBE, pctFE, case1) # cluster mass to light in case 1\n",
    "print('cluster mass to light in case 1 = {}'.format(cluster1))\n",
    "print('plus 15% gas = {}'.format(addgas(cluster1)))\n",
    "print()\n",
    "\n",
    "\n",
    "print('CASE 2 \\n')\n",
    "cluster2 = galm2L(pctBE, pctFE, case2) # cluster mass to light in case 2\n",
    "print('cluster mass to light in case 2 = {}'.format(cluster2))\n",
    "print('plus 15% gas = {}'.format(addgas(cluster2)))\n",
    "\n",
    "print('CASE 3 \\n')\n",
    "cluster3 = galm2L(pctBE, pctFE, case3) # cluster mass to light in case 3\n",
    "print('cluster mass to light in case 3 = {}'.format(cluster3))\n",
    "print('plus 15% gas = {}'.format(addgas(cluster3)))"
   ]
  },
  {
   "cell_type": "code",
   "execution_count": 25,
   "metadata": {},
   "outputs": [
    {
     "name": "stdout",
     "output_type": "stream",
     "text": [
      "LSS (LOW DENSITY) CASE with 30% BRIGHT ELLIPTICALS and 20% FAINT ELLIPTICALS \n",
      "\n",
      "CASE 1 \n",
      "\n",
      "Bright Mass = 21.32\n",
      "Faint Mass = 193.8\n",
      "LSS mass to light in case 1 with 30% bright and 20% faint ellipticals  = 185.44827586206898\n",
      "plus 15% gas = 213.2655172413793\n",
      "\n",
      "CASE 2 \n",
      "\n",
      "Bright Mass = 21.32\n",
      "Faint Mass = 193.8\n",
      "cluster mass to light in case 2 with 30% bright and 20% faint ellipticals= 185.44827586206898\n",
      "plus 15% gas = 213.2655172413793\n",
      "\n",
      "CASE 3 \n",
      "\n",
      "Bright Mass = 21.32\n",
      "Faint Mass = 193.8\n",
      "cluster mass to light in case 3 with 30% bright and 20% faint ellipticals= 185.44827586206898\n",
      "plus 15% gas = 213.2655172413793\n"
     ]
    }
   ],
   "source": [
    "# a few cases for LSS (lower density)\n",
    "print('LSS (LOW DENSITY) CASE with 30% BRIGHT ELLIPTICALS and 20% FAINT ELLIPTICALS \\n')\n",
    "\n",
    "pctLSSB1 = 0.30\n",
    "pctLSSF1 = 0.20\n",
    "\n",
    "print('CASE 1 \\n')\n",
    "LSS1 = galm2L(pctLSSB1, pctLSSF1, case1) # cluster mass to light in case 1\n",
    "print('LSS mass to light in case 1 with 30% bright and 20% faint ellipticals  = {}'.format(LSS1))\n",
    "print('plus 15% gas = {}'.format(addgas(LSS1)))\n",
    "print()\n",
    "\n",
    "print('CASE 2 \\n')\n",
    "LSS2 = galm2L(pctLSSB1, pctLSSF1, case2) # cluster mass to light in case 2\n",
    "print('cluster mass to light in case 2 with 30% bright and 20% faint ellipticals= {}'.format(LSS2))\n",
    "print('plus 15% gas = {}'.format(addgas(LSS2)))\n",
    "print()\n",
    "\n",
    "print('CASE 3 \\n')\n",
    "LSS3 = galm2L(pctLSSB1, pctLSSF1, case3) # cluster mass to light in case 2\n",
    "print('cluster mass to light in case 3 with 30% bright and 20% faint ellipticals= {}'.format(LSS3))\n",
    "print('plus 15% gas = {}'.format(addgas(LSS3)))"
   ]
  },
  {
   "cell_type": "code",
   "execution_count": 15,
   "metadata": {},
   "outputs": [
    {
     "name": "stdout",
     "output_type": "stream",
     "text": [
      "LSS (LOW DENSITY) CASE with 20% BRIGHT ELLIPTICALS and 20% FAINT ELLIPTICALS \n",
      "\n",
      "CASE 1 \n",
      "\n",
      "Bright Mass = 19.68\n",
      "Faint Mass = 193.8\n",
      "LSS mass to light in case 1 with 20% bright and 20% faint ellipticals  = 184.03448275862073\n",
      "plus 15% gas = 211.63965517241382\n",
      "\n",
      "CASE 2 \n",
      "\n",
      "Bright Mass = 19.68\n",
      "Faint Mass = 193.8\n",
      "LSS mass to light in case 2 with 20% bright and 20% faint ellipticals= 184.03448275862073\n",
      "plus 15% gas = 211.63965517241382\n",
      "\n",
      "CASE 3 \n",
      "\n",
      "Bright Mass = 19.68\n",
      "Faint Mass = 193.8\n",
      "LSS mass to light in case 3 with 20% bright and 20% faint ellipticals= 184.03448275862073\n",
      "plus 15% gas = 211.63965517241382\n"
     ]
    }
   ],
   "source": [
    "print('LSS (LOW DENSITY) CASE with 20% BRIGHT ELLIPTICALS and 20% FAINT ELLIPTICALS \\n')\n",
    "\n",
    "pctLSSB2 = 0.20\n",
    "pctLSSF2 = 0.20\n",
    "\n",
    "print('CASE 1 \\n')\n",
    "LSS3 = galm2L(pctLSSB2, pctLSSF2, case1) # cluster mass to light in case 1\n",
    "print('LSS mass to light in case 1 with 20% bright and 20% faint ellipticals  = {}'.format(LSS3))\n",
    "print('plus 15% gas = {}'.format(addgas(LSS3)))\n",
    "print()\n",
    "\n",
    "print('CASE 2 \\n')\n",
    "LSS4 = galm2L(pctLSSB2, pctLSSF2, case2) # cluster mass to light in case 2\n",
    "print('LSS mass to light in case 2 with 20% bright and 20% faint ellipticals= {}'.format(LSS4))\n",
    "print('plus 15% gas = {}'.format(addgas(LSS4)))\n",
    "print()\n",
    "\n",
    "print('CASE 3 \\n')\n",
    "LSS5 = galm2L(pctLSSB2, pctLSSF2, case3) # cluster mass to light in case 2\n",
    "print('LSS mass to light in case 3 with 20% bright and 20% faint ellipticals= {}'.format(LSS5))\n",
    "print('plus 15% gas = {}'.format(addgas(LSS5)))\n"
   ]
  },
  {
   "cell_type": "code",
   "execution_count": 16,
   "metadata": {},
   "outputs": [
    {
     "name": "stdout",
     "output_type": "stream",
     "text": [
      "LSS (LOW DENSITY) CASE with 30% BRIGHT ELLIPTICALS and 30% FAINT ELLIPTICALS \n",
      "\n",
      "CASE 1 \n",
      "\n",
      "Bright Mass = 21.32\n",
      "Faint Mass = 209.95\n",
      "LSS mass to light in case 1 with 30% bright and 30% faint ellipticals  = 199.3706896551724\n",
      "plus 15% gas = 229.27629310344827\n",
      "\n",
      "CASE 2 \n",
      "\n",
      "Bright Mass = 21.32\n",
      "Faint Mass = 209.95\n",
      "LSS mass to light in case 2 with 30% bright and 30% faint ellipticals= 199.3706896551724\n",
      "plus 15% gas = 229.27629310344827\n",
      "\n",
      "CASE 3 \n",
      "\n",
      "Bright Mass = 21.32\n",
      "Faint Mass = 209.95\n",
      "LSS mass to light in case 3 with 30% bright and 30% faint ellipticals= 199.3706896551724\n",
      "plus 15% gas = 229.27629310344827\n"
     ]
    }
   ],
   "source": [
    "print('LSS (LOW DENSITY) CASE with 30% BRIGHT ELLIPTICALS and 30% FAINT ELLIPTICALS \\n')\n",
    "\n",
    "pctLSSB3 = 0.30\n",
    "pctLSSF3 = 0.30\n",
    "\n",
    "print('CASE 1 \\n')\n",
    "LSS6 = galm2L(pctLSSB3, pctLSSF3, case1) # cluster mass to light in case 1\n",
    "print('LSS mass to light in case 1 with 30% bright and 30% faint ellipticals  = {}'.format(LSS6))\n",
    "print('plus 15% gas = {}'.format(addgas(LSS6)))\n",
    "print()\n",
    "\n",
    "print('CASE 2 \\n')\n",
    "LSS7 = galm2L(pctLSSB3, pctLSSF3, case2) # cluster mass to light in case 2\n",
    "print('LSS mass to light in case 2 with 30% bright and 30% faint ellipticals= {}'.format(LSS7))\n",
    "print('plus 15% gas = {}'.format(addgas(LSS7)))\n",
    "print()\n",
    "\n",
    "print('CASE 3 \\n')\n",
    "LSS8 = galm2L(pctLSSB3, pctLSSF3, case3) # cluster mass to light in case 2\n",
    "print('LSS mass to light in case 3 with 30% bright and 30% faint ellipticals= {}'.format(LSS8))\n",
    "print('plus 15% gas = {}'.format(addgas(LSS8)))"
   ]
  },
  {
   "cell_type": "code",
   "execution_count": 17,
   "metadata": {},
   "outputs": [
    {
     "name": "stdout",
     "output_type": "stream",
     "text": [
      "CASE 1 \n",
      "\n",
      "Bright Mass = 31.16\n",
      "Faint Mass = 282.625\n",
      "Cluster mass to light in case 1 with 90% bright and 75% faint ellipticals  = 270.5043103448276\n",
      "plus 15% gas = 311.0799568965518\n",
      "\n",
      "CASE 2 \n",
      "\n",
      "Bright Mass = 31.16\n",
      "Faint Mass = 282.625\n",
      "Cluster mass to light in case 2 with 90% bright and 75% faint ellipticals  = 270.5043103448276\n",
      "plus 15% gas = 311.0799568965518\n",
      "\n",
      "CASE 3 \n",
      "\n",
      "Bright Mass = 31.16\n",
      "Faint Mass = 282.625\n",
      "Cluster mass to light in case 3 with 90% bright and 75% faint ellipticals  = 270.5043103448276\n",
      "plus 15% gas = 311.0799568965518\n",
      "\n"
     ]
    }
   ],
   "source": [
    "# another cluster case\n",
    "pctBE9 = 0.9\n",
    "pctFE9 = 0.75\n",
    "\n",
    "print('CASE 1 \\n')\n",
    "BE9 = galm2L(pctBE9, pctFE9, case1) # cluster mass to light in case 1\n",
    "print('Cluster mass to light in case 1 with 90% bright and 75% faint ellipticals  = {}'.format(BE9))\n",
    "print('plus 15% gas = {}'.format(addgas(BE9)))\n",
    "print()\n",
    "\n",
    "print('CASE 2 \\n')\n",
    "BE92 = galm2L(pctBE9, pctFE9, case2) # cluster mass to light in case 2\n",
    "print('Cluster mass to light in case 2 with 90% bright and 75% faint ellipticals  = {}'.format(BE92))\n",
    "print('plus 15% gas = {}'.format(addgas(BE92)))\n",
    "print()\n",
    "\n",
    "print('CASE 3 \\n')\n",
    "BE93 = galm2L(pctBE9, pctFE9, case3) # cluster mass to light in case 3\n",
    "print('Cluster mass to light in case 3 with 90% bright and 75% faint ellipticals  = {}'.format(BE93))\n",
    "print('plus 15% gas = {}'.format(addgas(BE93)))\n",
    "print()"
   ]
  },
  {
   "cell_type": "code",
   "execution_count": null,
   "metadata": {},
   "outputs": [],
   "source": []
  }
 ],
 "metadata": {
  "kernelspec": {
   "display_name": "Python 3",
   "language": "python",
   "name": "python3"
  },
  "language_info": {
   "codemirror_mode": {
    "name": "ipython",
    "version": 3
   },
   "file_extension": ".py",
   "mimetype": "text/x-python",
   "name": "python",
   "nbconvert_exporter": "python",
   "pygments_lexer": "ipython3",
   "version": "3.7.3"
  }
 },
 "nbformat": 4,
 "nbformat_minor": 2
}
