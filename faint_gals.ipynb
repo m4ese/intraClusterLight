{
 "cells": [
  {
   "cell_type": "code",
   "execution_count": 2,
   "metadata": {},
   "outputs": [],
   "source": [
    "import astropy.units as u\n",
    "import astropy.constants as const\n",
    "import numpy as np\n",
    "from astropy.cosmology import WMAP9 as cosmo\n",
    "from decimal import Decimal\n",
    "import seaborn as sns\n",
    "import pandas as pd"
   ]
  },
  {
   "cell_type": "code",
   "execution_count": 3,
   "metadata": {},
   "outputs": [],
   "source": [
    "def s2h(mstar, mhalo):\n",
    "    '''takes inputs mstar and mhalo, and returns the ratio between the two (might return \n",
    "        all three values as an array if I'm feeling ambitious)'''\n",
    "    \n",
    "    ratio= mstar/mhalo\n",
    "    return ratio"
   ]
  },
  {
   "cell_type": "code",
   "execution_count": 4,
   "metadata": {},
   "outputs": [],
   "source": [
    "Mstar1 = 10**6.3 * u.solMass\n",
    "Mhalo1 = 10**10.3 * u.solMass\n",
    "\n",
    "Mstar2 = 10**6.7 * u.solMass\n",
    "Mhalo2 = 10**10.0 * u.solMass\n",
    "\n",
    "Mstar3 = 10**6.7 * u.solMass\n",
    "Mhalo3 = 10**9.9 * u.solMass\n",
    "\n",
    "Mstar4 = 10**6.2 * u.solMass\n",
    "Mhalo4 = 10**9.8 * u.solMass\n",
    "\n",
    "Mstar5 = 10**5.8 * u.solMass\n",
    "Mhalo5 = 10**9.8 * u.solMass\n",
    "\n",
    "Mstar6 = 10**6.1 * u.solMass\n",
    "Mhalo6 = 10**10.6 * u.solMass\n",
    "\n",
    "Mstar7 = 10**6.0 * u.solMass\n",
    "Mhalo7 = 10**9.7 * u.solMass\n",
    "\n",
    "Mstar8 = 10**6.0 * u.solMass\n",
    "Mhalo8 = 10**9.7 * u.solMass\n",
    "\n",
    "Mstar9 = 10**7.3 * u.solMass\n",
    "Mhalo9 = 10**10.2 * u.solMass\n",
    "\n",
    "Mstar10 = 10**5.7 * u.solMass\n",
    "Mhalo10 = 10**9.6 * u.solMass\n",
    "\n",
    "Mstar11 = 10**6.1 * u.solMass\n",
    "Mhalo11 = 10**9.9 * u.solMass\n",
    "\n",
    "Mstar12 = 10**6.4 * u.solMass\n",
    "Mhalo12 = 10**10.4 * u.solMass\n",
    "\n",
    "Mstar13 = 10**7.0 * u.solMass\n",
    "Mhalo13 = 10**10.3 * u.solMass\n",
    "\n",
    "Mstar14 = 10**5.7 * u.solMass\n",
    "Mhalo14 = 10**9.8 * u.solMass\n",
    "\n",
    "Mstar15 = 10**6.9 * u.solMass\n",
    "Mhalo15 = 10**9.9 * u.solMass"
   ]
  },
  {
   "cell_type": "code",
   "execution_count": 5,
   "metadata": {},
   "outputs": [
    {
     "name": "stdout",
     "output_type": "stream",
     "text": [
      "mstar1 = 2.00E+06 solMass\n",
      "mhalo1 = 2.00E+10 solMass\n",
      "\n",
      "mstar2 = 5.01E+06 solMass\n",
      "mhalo2 = 1.00E+10 solMass\n",
      "\n",
      "mstar3 = 5.01E+06 solMass\n",
      "mhalo3 = 7.94E+09 solMass\n",
      "\n",
      "mstar4 = 1.58E+06 solMass\n",
      "mhalo4 = 6.31E+09 solMass\n",
      "\n",
      "mstar5 = 6.31E+05 solMass\n",
      "mhalo5 = 6.31E+09 solMass\n",
      "\n",
      "mstar6 = 1.26E+06 solMass\n",
      "mhalo6 = 3.98E+10 solMass\n",
      "\n",
      "mstar7 = 1.00E+06 solMass\n",
      "mhalo7 = 5.01E+09 solMass\n",
      "\n",
      "mstar8 = 1.00E+06 solMass\n",
      "mhalo8 = 5.01E+09 solMass\n",
      "\n",
      "mstar9 = 2.00E+07 solMass\n",
      "mhalo9 = 1.58E+10 solMass\n",
      "\n",
      "mstar10 = 5.01E+05 solMass\n",
      "mhalo10 = 3.98E+09 solMass\n",
      "\n",
      "mstar11 = 1.26E+06 solMass\n",
      "mhalo11 = 7.94E+09 solMass\n",
      "\n",
      "mstar12 = 2.51E+06 solMass\n",
      "mhalo12 = 2.51E+10 solMass\n",
      "\n",
      "mstar13 = 1.00E+07 solMass\n",
      "mhalo13 = 2.00E+10 solMass\n",
      "\n",
      "mstar14 = 5.01E+05 solMass\n",
      "mhalo14 = 6.31E+09 solMass\n",
      "\n"
     ]
    }
   ],
   "source": [
    "stellar = [Mstar1,Mstar2,Mstar3,Mstar4,Mstar5,Mstar6,Mstar7,Mstar8,Mstar9,\n",
    "           Mstar10,Mstar11,Mstar12,Mstar13,Mstar14,Mstar15]\n",
    "\n",
    "halo = [Mhalo1,Mhalo2,Mhalo3,Mhalo4,Mhalo5,Mhalo6,Mhalo7,Mhalo8,Mhalo9,\n",
    "           Mhalo10,Mhalo11,Mhalo12,Mhalo13,Mhalo14,Mhalo15]\n",
    "\n",
    "for i in range(0,14):\n",
    "    print('mstar{} = {:.2E}'.format(i+1,stellar[i]))\n",
    "    print('mhalo{} = {:.2E}'.format(i+1,halo[i]))\n",
    "    print()\n"
   ]
  },
  {
   "cell_type": "code",
   "execution_count": 6,
   "metadata": {},
   "outputs": [],
   "source": [
    "gal1 = s2h(Mstar1.value,Mhalo1.value)\n",
    "gal2 = s2h(Mstar2.value,Mhalo2.value)\n",
    "gal3 = s2h(Mstar3.value,Mhalo3.value)\n",
    "gal4 = s2h(Mstar4.value,Mhalo4.value)\n",
    "gal5 = s2h(Mstar5.value,Mhalo5.value)\n",
    "gal6 = s2h(Mstar6.value,Mhalo6.value)\n",
    "gal7 = s2h(Mstar7.value,Mhalo7.value)\n",
    "gal8 = s2h(Mstar8.value,Mhalo8.value)\n",
    "gal9 = s2h(Mstar9.value,Mhalo9.value)\n",
    "gal10 = s2h(Mstar10.value,Mhalo10.value)\n",
    "gal11 = s2h(Mstar11.value,Mhalo11.value)\n",
    "gal12 = s2h(Mstar12.value,Mhalo12.value)\n",
    "gal13 = s2h(Mstar13.value,Mhalo13.value)\n",
    "gal14 = s2h(Mstar14.value,Mhalo14.value)\n",
    "gal15 = s2h(Mstar15.value,Mhalo15.value)"
   ]
  },
  {
   "cell_type": "code",
   "execution_count": 7,
   "metadata": {},
   "outputs": [
    {
     "name": "stdout",
     "output_type": "stream",
     "text": [
      "9.99999999999998e-05\n"
     ]
    }
   ],
   "source": [
    "print(gal1)"
   ]
  },
  {
   "cell_type": "code",
   "execution_count": 8,
   "metadata": {},
   "outputs": [
    {
     "name": "stdout",
     "output_type": "stream",
     "text": [
      "    Stellar Mass [M_sol]  Halo Mass [M_sol]   M_s/M_h\n",
      "0           1.995262e+06       1.995262e+10  0.000100\n",
      "1           5.011872e+06       1.000000e+10  0.000501\n",
      "2           5.011872e+06       7.943282e+09  0.000631\n",
      "3           1.584893e+06       6.309573e+09  0.000251\n",
      "4           6.309573e+05       6.309573e+09  0.000100\n",
      "5           1.258925e+06       3.981072e+10  0.000032\n",
      "6           1.000000e+06       5.011872e+09  0.000200\n",
      "7           1.000000e+06       5.011872e+09  0.000200\n",
      "8           1.995262e+07       1.584893e+10  0.001259\n",
      "9           5.011872e+05       3.981072e+09  0.000126\n",
      "10          1.258925e+06       7.943282e+09  0.000158\n",
      "11          2.511886e+06       2.511886e+10  0.000100\n",
      "12          1.000000e+07       1.995262e+10  0.000501\n",
      "13          5.011872e+05       6.309573e+09  0.000079\n",
      "14          7.943282e+06       7.943282e+09  0.001000\n"
     ]
    }
   ],
   "source": [
    "'''faint_df = {'Stellar Mass [M_sol]': [gal1[0],gal2[0],gal3[0],gal4[0],gal5[0],gal6[0],gal7[0],\n",
    "                             gal8[0],gal9[0],gal10[0],gal11[0],gal12[0],gal13[0],gal14[0],gal15[0]],\n",
    "            \n",
    "            'Halo Mass [M_sol]': [gal1[1],gal2[1],gal3[1],gal4[1],gal5[1],gal6[1],gal7[1],gal8[1],\n",
    "                          gal9[1],gal10[1],gal11[1],gal12[1],gal13[1],gal14[1],gal15[1]],\n",
    "                                  \n",
    "    'M_s/M_h': [gal1[2],gal2[2],gal3[2],gal4[2],gal5[2],gal6[2],gal7[2],gal8[2],\n",
    "                          gal9[2],gal10[2],gal11[2],gal12[2],gal13[2],gal14[2],gal15[2]]}\n",
    "'''\n",
    "faint = {'Stellar Mass [M_sol]': [Mstar1.value,Mstar2.value,Mstar3.value,Mstar4.value,Mstar5.value,\n",
    "                                     Mstar6.value,Mstar7.value,Mstar8.value,Mstar9.value,Mstar10.value,\n",
    "                                     Mstar11.value,Mstar12.value,Mstar13.value,Mstar14.value,Mstar15.value],\n",
    "            \n",
    "            'Halo Mass [M_sol]': [Mhalo1.value,Mhalo2.value,Mhalo3.value,Mhalo4.value,Mhalo5.value,Mhalo6.value,\n",
    "                                  Mhalo7.value,Mhalo8.value, Mhalo9.value,Mhalo10.value,Mhalo11.value,Mhalo12.value,\n",
    "                                  Mhalo13.value,Mhalo14.value,Mhalo15.value],\n",
    "                                  \n",
    "    'M_s/M_h': [gal1,gal2,gal3,gal4,gal5,gal6,gal7,gal8,\n",
    "                          gal9,gal10,gal11,gal12,gal13,gal14,gal15]}\n",
    "faint_df= pd.DataFrame(data=faint)\n",
    "\n",
    "print(faint_df)"
   ]
  },
  {
   "cell_type": "code",
   "execution_count": 9,
   "metadata": {},
   "outputs": [
    {
     "data": {
      "text/plain": [
       "<seaborn.axisgrid.FacetGrid at 0x1a23a3ce48>"
      ]
     },
     "execution_count": 9,
     "metadata": {},
     "output_type": "execute_result"
    },
    {
     "data": {
      "image/png": "[encoded data removed]",
      "text/plain": [
       "<Figure size 360x360 with 1 Axes>"
      ]
     },
     "metadata": {},
     "output_type": "display_data"
    }
   ],
   "source": [
    "sns.set()\n",
    "sns.relplot(data = faint_df, x ='Stellar Mass [M_sol]', y = 'M_s/M_h')"
   ]
  },
  {
   "cell_type": "code",
   "execution_count": 10,
   "metadata": {},
   "outputs": [
    {
     "ename": "FileNotFoundError",
     "evalue": "[Errno 2] No such file or directory: 'Lstarbin.csv'",
     "output_type": "error",
     "traceback": [
      "\u001b[0;31m---------------------------------------------------------------------------\u001b[0m",
      "\u001b[0;31mFileNotFoundError\u001b[0m                         Traceback (most recent call last)",
      "\u001b[0;32m<ipython-input-10-d103528c3986>\u001b[0m in \u001b[0;36m<module>\u001b[0;34m\u001b[0m\n\u001b[1;32m      3\u001b[0m \u001b[0;34m\u001b[0m\u001b[0m\n\u001b[1;32m      4\u001b[0m \u001b[0;31m# Lstar bin\u001b[0m\u001b[0;34m\u001b[0m\u001b[0;34m\u001b[0m\u001b[0;34m\u001b[0m\u001b[0m\n\u001b[0;32m----> 5\u001b[0;31m \u001b[0;32mwith\u001b[0m \u001b[0mopen\u001b[0m\u001b[0;34m(\u001b[0m\u001b[0;34m'Lstarbin.csv'\u001b[0m\u001b[0;34m)\u001b[0m \u001b[0;32mas\u001b[0m \u001b[0mLstar\u001b[0m\u001b[0;34m:\u001b[0m\u001b[0;34m\u001b[0m\u001b[0;34m\u001b[0m\u001b[0m\n\u001b[0m\u001b[1;32m      6\u001b[0m     \u001b[0mcsv_reader\u001b[0m \u001b[0;34m=\u001b[0m \u001b[0mcsv\u001b[0m\u001b[0;34m.\u001b[0m\u001b[0mreader\u001b[0m\u001b[0;34m(\u001b[0m\u001b[0mLstar\u001b[0m\u001b[0;34m,\u001b[0m\u001b[0mdelimiter\u001b[0m \u001b[0;34m=\u001b[0m \u001b[0;34m','\u001b[0m\u001b[0;34m)\u001b[0m\u001b[0;34m\u001b[0m\u001b[0;34m\u001b[0m\u001b[0m\n\u001b[1;32m      7\u001b[0m     \u001b[0mM_stars\u001b[0m \u001b[0;34m=\u001b[0m \u001b[0;34m[\u001b[0m\u001b[0;34m]\u001b[0m\u001b[0;34m\u001b[0m\u001b[0;34m\u001b[0m\u001b[0m\n",
      "\u001b[0;31mFileNotFoundError\u001b[0m: [Errno 2] No such file or directory: 'Lstarbin.csv'"
     ]
    }
   ],
   "source": [
    "# Leuthard Data\n",
    "import csv\n",
    "\n",
    "# Lstar bin\n",
    "with open('Lstarbin.csv') as Lstar:\n",
    "    csv_reader = csv.reader(Lstar,delimiter = ',')\n",
    "    M_stars = []\n",
    "    M_sPerM_h = []\n",
    "    for row in csv_reader:\n",
    "        star = float(row[0])\n",
    "        ratio = (1 / float(row[1]))*1.15 # 1.15 is a correction from M60 to M100\n",
    "        M_stars.append(star)\n",
    "        M_sPerM_h.append(ratio)\n",
    "\n",
    "    #print(M_stars)\n",
    "    #print()\n",
    "    #print(M_sPerM_h)\n",
    "        \n",
    "# Lstarpoints = np.vstack((M_stars,M_sPerM_h))"
   ]
  },
  {
   "cell_type": "code",
   "execution_count": null,
   "metadata": {},
   "outputs": [],
   "source": [
    "average_rat_Lstar = sum(M_sPerM_h) / len(M_sPerM_h)\n",
    "print('When selecting the points in our Lstar bin from Leuthaud, we get:')\n",
    "print('Average M_s/M_h = {:.2E}'.format(average_rat_Lstar))"
   ]
  },
  {
   "cell_type": "code",
   "execution_count": null,
   "metadata": {},
   "outputs": [],
   "source": [
    "#mid to low bin\n",
    "with open('Mid-to-low-bin.csv') as mid:\n",
    "    csv_reader = csv.reader(mid,delimiter = ',')\n",
    "    M_s_mids = []\n",
    "    starsPerhalo_mids = []\n",
    "    for row in csv_reader:\n",
    "        star = float(row[0])\n",
    "        ratio = (1 / float(row[1]))*1.15 # 1.15 is a correction from M60 to M100\n",
    "        M_s_mids.append(star)\n",
    "        starsPerhalo_mids.append(ratio)\n",
    "\n",
    "    #print(M_s_mids)\n",
    "    #print()\n",
    "    #print(starsPerhalo_mids)\n",
    "    \n",
    "# middleBinPoints = np.vstack((M_s_mids,starsPerhalo_mids))"
   ]
  },
  {
   "cell_type": "code",
   "execution_count": null,
   "metadata": {},
   "outputs": [],
   "source": [
    "average_rat_mid = sum(starsPerhalo_mids) / len(starsPerhalo_mids)\n",
    "print('When selecting the points in our middle bin from Leuthaud, we get:')\n",
    "print('Average M_s/M_h = {:.2E}'.format(average_rat_mid))\n"
   ]
  },
  {
   "cell_type": "code",
   "execution_count": null,
   "metadata": {},
   "outputs": [],
   "source": [
    "#low bin\n",
    "with open('LowBin.csv') as low:\n",
    "    csv_reader = csv.reader(low,delimiter = ',')\n",
    "    M_s_lows = []\n",
    "    starsPerhalo_lows = []\n",
    "    for row in csv_reader:\n",
    "        star = float(row[0])\n",
    "        ratio = (1 / float(row[1]))*1.15 # 1.15 is a correction from M60 to M100\n",
    "        M_s_lows.append(star)\n",
    "        starsPerhalo_lows.append(ratio)\n",
    "\n",
    "    #print(M_s_lows)\n",
    "    #print()\n",
    "    #print(starsPerhalo_lows)\n",
    "    \n",
    "# lowBinPoints = np.vstack((M_s_lows,starsPerhalo_lows))"
   ]
  },
  {
   "cell_type": "code",
   "execution_count": null,
   "metadata": {},
   "outputs": [],
   "source": [
    "average_rat_low = sum(starsPerhalo_lows) / len(starsPerhalo_lows)\n",
    "print('When selecting the points in our low bin from Leuthaud, we get:')\n",
    "print('Average M_s/M_h = {:.2E}'.format(average_rat_low))"
   ]
  },
  {
   "cell_type": "markdown",
   "metadata": {},
   "source": [
    "# Working now with points only on the Line from Leuthaud"
   ]
  },
  {
   "cell_type": "code",
   "execution_count": null,
   "metadata": {},
   "outputs": [],
   "source": [
    "with open('LstarLinebin (1).csv') as Lstar:\n",
    "    csv_reader = csv.reader(Lstar,delimiter = ',')\n",
    "    M_stars_line_highs = []\n",
    "    M_sPerM_h_line_highs = []\n",
    "    for row in csv_reader:\n",
    "        star = float(row[0])\n",
    "        ratio = (1 / float(row[1]))*1.15 # 1.15 is a correction from M60 to M100\n",
    "        M_stars_line_highs.append(star)\n",
    "        M_sPerM_h_line_highs.append(ratio)\n",
    "        "
   ]
  },
  {
   "cell_type": "code",
   "execution_count": null,
   "metadata": {},
   "outputs": [],
   "source": [
    "av_rat_line_high = sum(M_sPerM_h_line_highs) / len(M_sPerM_h_line_highs)\n",
    "print('When selecting the line in our Lstar bin from Leuthaud, we get:')\n",
    "print('Average M_s/M_h = {:.2E}'.format(av_rat_line_high))"
   ]
  },
  {
   "cell_type": "code",
   "execution_count": null,
   "metadata": {},
   "outputs": [],
   "source": [
    "with open('MidLineBin.csv') as Mids:\n",
    "    csv_reader = csv.reader(Mids,delimiter = ',')\n",
    "    M_stars_line_mids = []\n",
    "    M_sPerM_h_line_mids = []\n",
    "    for row in csv_reader:\n",
    "        star = float(row[0])\n",
    "        ratio = (1 / float(row[1]))*1.15 # 1.15 is a correction from M60 to M100\n",
    "        M_stars_line_mids.append(star)\n",
    "        M_sPerM_h_line_mids.append(ratio)\n",
    "\n",
    "    '''print(M_stars_line_mids)\n",
    "    print()\n",
    "    print(M_sPerM_h_line_mids)'''"
   ]
  },
  {
   "cell_type": "code",
   "execution_count": null,
   "metadata": {},
   "outputs": [],
   "source": [
    "av_rat_line_mid = sum(M_sPerM_h_line_mids) / len(M_sPerM_h_line_mids)\n",
    "print('When selecting the line in our Middle bin from Leuthaud, we get:')\n",
    "print('Average M_s/M_h = {:.2E}'.format(av_rat_line_mid))"
   ]
  },
  {
   "cell_type": "code",
   "execution_count": null,
   "metadata": {},
   "outputs": [],
   "source": [
    "with open('LowLineBin.csv') as Lows:\n",
    "    csv_reader = csv.reader(Lows,delimiter = ',')\n",
    "    M_stars_line_lows = []\n",
    "    M_sPerM_h_line_lows = []\n",
    "    for row in csv_reader:\n",
    "        star = float(row[0])\n",
    "        ratio = (1 / float(row[1]))*1.15 # 1.15 is a correction from M60 to M100\n",
    "        M_stars_line_lows.append(star)\n",
    "        M_sPerM_h_line_lows.append(ratio)"
   ]
  },
  {
   "cell_type": "code",
   "execution_count": null,
   "metadata": {},
   "outputs": [],
   "source": [
    "av_rat_line_low = sum(M_sPerM_h_line_lows) / len(M_sPerM_h_line_lows)\n",
    "print('When selecting the line in our Low bin from Leuthaud, we get:')\n",
    "print('Average M_s/M_h = {:.2E}'.format(av_rat_line_low))"
   ]
  },
  {
   "cell_type": "markdown",
   "metadata": {},
   "source": [
    "# Working Now with points picked just above the line (to account for the redshift)"
   ]
  },
  {
   "cell_type": "code",
   "execution_count": null,
   "metadata": {},
   "outputs": [],
   "source": [
    "with open('LstarNOz.csv') as lstar_noz:\n",
    "    csv_reader = csv.reader(lstar_noz,delimiter = ',')\n",
    "    M_stars_noz_highs = []\n",
    "    M_sPerM_h_noz_highs = []\n",
    "    for row in csv_reader:\n",
    "        star = float(row[0])\n",
    "        ratio = (1 / float(row[1]))*1.15 # 1.15 is a correction from M60 to M100\n",
    "        M_stars_noz_highs.append(star)\n",
    "        M_sPerM_h_noz_highs.append(ratio)"
   ]
  },
  {
   "cell_type": "code",
   "execution_count": null,
   "metadata": {},
   "outputs": [],
   "source": [
    "av_rat_noz_highs = sum(M_sPerM_h_noz_highs) / len(M_sPerM_h_noz_highs)\n",
    "print('When selecting above the line in our high bin from Leuthaud, we get:')\n",
    "print('Average M_s/M_h = {:.2E}'.format(av_rat_noz_highs))"
   ]
  },
  {
   "cell_type": "code",
   "execution_count": null,
   "metadata": {},
   "outputs": [],
   "source": [
    "with open('MidNOz.csv') as mid_noz:\n",
    "    csv_reader = csv.reader(mid_noz,delimiter = ',')\n",
    "    M_stars_noz_mids = []\n",
    "    M_sPerM_h_noz_mids = []\n",
    "    for row in csv_reader:\n",
    "        star = float(row[0])\n",
    "        ratio = (1 / float(row[1]))*1.15 # 1.15 is a correction from M60 to M100\n",
    "        M_stars_noz_mids.append(star)\n",
    "        M_sPerM_h_noz_mids.append(ratio)"
   ]
  },
  {
   "cell_type": "code",
   "execution_count": null,
   "metadata": {},
   "outputs": [],
   "source": [
    "av_rat_noz_mids = sum(M_sPerM_h_noz_mids) / len(M_sPerM_h_noz_mids)\n",
    "print('When selecting above the line in our mid bin from Leuthaud, we get:')\n",
    "print('Average M_s/M_h = {:.2E}'.format(av_rat_noz_mids))"
   ]
  },
  {
   "cell_type": "code",
   "execution_count": null,
   "metadata": {},
   "outputs": [],
   "source": [
    "with open('LowNOz.csv') as low_noz:\n",
    "    csv_reader = csv.reader(low_noz,delimiter = ',')\n",
    "    M_stars_noz_lows = []\n",
    "    M_sPerM_h_noz_lows = []\n",
    "    for row in csv_reader:\n",
    "        star = float(row[0])\n",
    "        ratio = (1 / float(row[1]))*1.15 # 1.15 is a correction from M60 to M100\n",
    "        M_stars_noz_lows.append(star)\n",
    "        M_sPerM_h_noz_lows.append(ratio)"
   ]
  },
  {
   "cell_type": "code",
   "execution_count": null,
   "metadata": {},
   "outputs": [],
   "source": [
    "av_rat_noz_lows = sum(M_sPerM_h_noz_lows) / len(M_sPerM_h_noz_lows)\n",
    "print('When selecting above the line in our low bin from Leuthaud, we get:')\n",
    "print('Average M_s/M_h = {:.2E}'.format(av_rat_noz_lows))"
   ]
  },
  {
   "cell_type": "code",
   "execution_count": null,
   "metadata": {},
   "outputs": [],
   "source": [
    "# at 0.2 Lstar\n",
    "M_s = 7.98802e9 \n",
    "MsoverMh=1/(7.41610e+1)\n",
    "MsoverMh *= 1.15\n",
    "print(MsoverMh)"
   ]
  },
  {
   "cell_type": "code",
   "execution_count": null,
   "metadata": {},
   "outputs": [],
   "source": [
    "# at 0.6 Lstar\n",
    "M_s = 2.40644e+10\n",
    "MsoverMh6 = (1/ 5.36815e+1) * 1.15\n",
    "print(MsoverMh6)\n",
    "\n",
    "MoverL = 50* 0.6**(-.54)\n",
    "print(MoverL)"
   ]
  },
  {
   "cell_type": "markdown",
   "metadata": {},
   "source": [
    "# I'm gonna try to read in the data from Prole to get a lower bin for the stellar fraction"
   ]
  },
  {
   "cell_type": "code",
   "execution_count": 11,
   "metadata": {},
   "outputs": [],
   "source": [
    "from tabula import read_pdf"
   ]
  },
  {
   "cell_type": "code",
   "execution_count": 12,
   "metadata": {},
   "outputs": [
    {
     "ename": "FileNotFoundError",
     "evalue": "[Errno 2] No such file or directory: 'Prole.pdf'",
     "output_type": "error",
     "traceback": [
      "\u001b[0;31m---------------------------------------------------------------------------\u001b[0m",
      "\u001b[0;31mFileNotFoundError\u001b[0m                         Traceback (most recent call last)",
      "\u001b[0;32m<ipython-input-12-25acb742f4c5>\u001b[0m in \u001b[0;36m<module>\u001b[0;34m\u001b[0m\n\u001b[0;32m----> 1\u001b[0;31m \u001b[0mprole\u001b[0m \u001b[0;34m=\u001b[0m \u001b[0mread_pdf\u001b[0m\u001b[0;34m(\u001b[0m\u001b[0;34m'Prole.pdf'\u001b[0m\u001b[0;34m)\u001b[0m\u001b[0;34m\u001b[0m\u001b[0;34m\u001b[0m\u001b[0m\n\u001b[0m\u001b[1;32m      2\u001b[0m \u001b[0mprole\u001b[0m\u001b[0;34m.\u001b[0m\u001b[0mcolumns\u001b[0m \u001b[0;34m=\u001b[0m \u001b[0;34m[\u001b[0m\u001b[0;34m'Galaxy'\u001b[0m\u001b[0;34m,\u001b[0m \u001b[0;34m'M_V'\u001b[0m\u001b[0;34m,\u001b[0m \u001b[0;34m'r_eff [kpc]'\u001b[0m\u001b[0;34m,\u001b[0m \u001b[0;34m'log(M^*)'\u001b[0m\u001b[0;34m,\u001b[0m \u001b[0;34m'NaN'\u001b[0m\u001b[0;34m,\u001b[0m \u001b[0;34m'r_h[r_eff]'\u001b[0m\u001b[0;34m,\u001b[0m \u001b[0;34m'N_GC'\u001b[0m\u001b[0;34m,\u001b[0m \u001b[0;34m'log(M_halo)'\u001b[0m\u001b[0;34m]\u001b[0m\u001b[0;34m\u001b[0m\u001b[0;34m\u001b[0m\u001b[0m\n\u001b[1;32m      3\u001b[0m \u001b[0mprint\u001b[0m\u001b[0;34m(\u001b[0m\u001b[0mtype\u001b[0m\u001b[0;34m(\u001b[0m\u001b[0mprole\u001b[0m\u001b[0;34m)\u001b[0m\u001b[0;34m)\u001b[0m\u001b[0;34m\u001b[0m\u001b[0;34m\u001b[0m\u001b[0m\n\u001b[1;32m      4\u001b[0m \u001b[0mprole\u001b[0m\u001b[0;34m\u001b[0m\u001b[0;34m\u001b[0m\u001b[0m\n",
      "\u001b[0;32m/anaconda3/lib/python3.7/site-packages/tabula/wrapper.py\u001b[0m in \u001b[0;36mread_pdf\u001b[0;34m(input_path, output_format, encoding, java_options, pandas_options, multiple_tables, **kwargs)\u001b[0m\n\u001b[1;32m    103\u001b[0m \u001b[0;34m\u001b[0m\u001b[0m\n\u001b[1;32m    104\u001b[0m     \u001b[0;32mif\u001b[0m \u001b[0;32mnot\u001b[0m \u001b[0mos\u001b[0m\u001b[0;34m.\u001b[0m\u001b[0mpath\u001b[0m\u001b[0;34m.\u001b[0m\u001b[0mexists\u001b[0m\u001b[0;34m(\u001b[0m\u001b[0mpath\u001b[0m\u001b[0;34m)\u001b[0m\u001b[0;34m:\u001b[0m\u001b[0;34m\u001b[0m\u001b[0;34m\u001b[0m\u001b[0m\n\u001b[0;32m--> 105\u001b[0;31m         \u001b[0;32mraise\u001b[0m \u001b[0mFileNotFoundError\u001b[0m\u001b[0;34m(\u001b[0m\u001b[0merrno\u001b[0m\u001b[0;34m.\u001b[0m\u001b[0mENOENT\u001b[0m\u001b[0;34m,\u001b[0m \u001b[0mos\u001b[0m\u001b[0;34m.\u001b[0m\u001b[0mstrerror\u001b[0m\u001b[0;34m(\u001b[0m\u001b[0merrno\u001b[0m\u001b[0;34m.\u001b[0m\u001b[0mENOENT\u001b[0m\u001b[0;34m)\u001b[0m\u001b[0;34m,\u001b[0m \u001b[0mpath\u001b[0m\u001b[0;34m)\u001b[0m\u001b[0;34m\u001b[0m\u001b[0;34m\u001b[0m\u001b[0m\n\u001b[0m\u001b[1;32m    106\u001b[0m \u001b[0;34m\u001b[0m\u001b[0m\n\u001b[1;32m    107\u001b[0m     \u001b[0;32mtry\u001b[0m\u001b[0;34m:\u001b[0m\u001b[0;34m\u001b[0m\u001b[0;34m\u001b[0m\u001b[0m\n",
      "\u001b[0;31mFileNotFoundError\u001b[0m: [Errno 2] No such file or directory: 'Prole.pdf'"
     ]
    }
   ],
   "source": [
    "prole = read_pdf('Prole.pdf')\n",
    "prole.columns = ['Galaxy', 'M_V', 'r_eff [kpc]', 'log(M^*)', 'NaN', 'r_h[r_eff]', 'N_GC', 'log(M_halo)']\n",
    "print(type(prole))\n",
    "prole"
   ]
  },
  {
   "cell_type": "code",
   "execution_count": null,
   "metadata": {},
   "outputs": [],
   "source": [
    "prole = pd.DataFrame(data=prole)\n",
    "prole = prole.drop([39], axis = 0)\n",
    "prole = prole.drop(['NaN','r_eff [kpc]', 'N_GC', 'r_h[r_eff]'], axis =1)"
   ]
  },
  {
   "cell_type": "code",
   "execution_count": null,
   "metadata": {},
   "outputs": [],
   "source": [
    "prole"
   ]
  },
  {
   "cell_type": "code",
   "execution_count": null,
   "metadata": {},
   "outputs": [],
   "source": [
    "def centerval(halostring):\n",
    "    '''takes the string defining the halo values and returns the value in the middle of the list as a float\n",
    "    \n",
    "    this takes advantage of the fact that the value will be in the middle, and will have spaces before and after it\n",
    "    at the end of the function, the last value will still be saved as 'string' but we can just return it\n",
    "    \n",
    "    First, the function deletes the commas and brackets.  Then, it starts extracting the numbers.'''\n",
    "    list = []\n",
    "    string = ''\n",
    "    halostring = halostring.translate({ord(i): None for i in '{},'}) # delete the commas and brackets\n",
    "    for char in halostring:\n",
    "        string += char # add the next digit\n",
    "        if char == ' ': # if it's a space, cast the number and add it to the list\n",
    "            list.append(float(string))\n",
    "            string = ''\n",
    "            \n",
    "    mass = list[1]\n",
    "    return mass\n",
    "        "
   ]
  },
  {
   "cell_type": "code",
   "execution_count": null,
   "metadata": {},
   "outputs": [],
   "source": [
    "adder = 0 # adds up all the M_s/M_h values\n",
    "counter = 0\n",
    "\n",
    "prolestars = []\n",
    "prolehalos= []\n",
    "\n",
    "for mass in prole.iloc[:,2]:\n",
    "    log_star = float(mass)\n",
    "    M_p_s = 10 ** log_star\n",
    "    prolestars.append(M_p_s)\n",
    "for halo in prole.iloc[:,3]:\n",
    "    log_halo = centerval(halo)\n",
    "    M_p_h = 10 ** log_halo\n",
    "    prolehalos.append(M_p_h)\n",
    "\n",
    "ratio_p = np.divide(prolestars, prolehalos)\n",
    "average = sum(ratio_p) / len(prolestars)\n",
    "print(average)"
   ]
  },
  {
   "cell_type": "code",
   "execution_count": null,
   "metadata": {},
   "outputs": [],
   "source": [
    "total_s =  M_stars_line_highs + M_stars_line_mids + M_stars_line_lows # prolestars\n",
    "total_sph = M_sPerM_h_line_highs + M_sPerM_h_line_lows + M_sPerM_h_line_mids #+ ratio_p "
   ]
  },
  {
   "cell_type": "code",
   "execution_count": null,
   "metadata": {},
   "outputs": [],
   "source": [
    "import matplotlib.pyplot as plt\n",
    "plt.scatter(x= total_s, y= total_sph)\n",
    "plt.xscale('log', basex = 10)\n",
    "plt.yscale('log', basey= 10)"
   ]
  },
  {
   "cell_type": "markdown",
   "metadata": {},
   "source": [
    "# Checking the relation Mhalo = Mstar^0.46 for the Prole Data"
   ]
  },
  {
   "cell_type": "code",
   "execution_count": null,
   "metadata": {},
   "outputs": [],
   "source": [
    "import math\n",
    "N = len(prolestars)\n",
    "lgprolestars = []\n",
    "lgprolehalos= []\n",
    "for i in range(N):\n",
    "    lgprolestars.append(math.log(prolestars[i],10))\n",
    "    lgprolehalos.append(math.log(prolehalos[i],10))\n",
    "\n",
    "lgprolestars = np.asarray(lgprolestars)\n",
    "X = lgprolestars.reshape(N,1)\n",
    "\n",
    "params, _, _, _ = np.linalg.lstsq(X, lgprolehalos)\n",
    "slope = params[0]\n",
    "\n",
    "print(slope)"
   ]
  },
  {
   "cell_type": "code",
   "execution_count": null,
   "metadata": {},
   "outputs": [],
   "source": [
    "plot = plt.scatter(x=prolestars, y= prolehalos)\n",
    "plt.xscale('log',basex=10)\n",
    "plt.yscale('log',basey=10)\n",
    "\n",
    "'''R = np.linspace(10,25,100)\n",
    "fig = plt.figure()\n",
    "ax = fig.add_subplot(111)\n",
    "ax.scatter(lgprolestars, lgprolehalos)\n",
    "ax.plot(R, slope*R, 'k--')\n",
    "ax.set_xlabel('log(stellar mass)')\n",
    "ax.set_ylabel('log(halo mass)')'''\n"
   ]
  },
  {
   "cell_type": "code",
   "execution_count": null,
   "metadata": {},
   "outputs": [],
   "source": [
    "print(1/slope)"
   ]
  },
  {
   "cell_type": "code",
   "execution_count": null,
   "metadata": {},
   "outputs": [],
   "source": [
    "0.02**(-0.54) * 50"
   ]
  },
  {
   "cell_type": "code",
   "execution_count": null,
   "metadata": {},
   "outputs": [],
   "source": [
    "def div1point3(number):\n",
    "    '''divides by 1.3'''\n",
    "    \n",
    "    return number / 1.3"
   ]
  },
  {
   "cell_type": "code",
   "execution_count": null,
   "metadata": {},
   "outputs": [],
   "source": [
    "point6 = div1point3(65.88)\n",
    "point2 = div1point3(119.24)\n",
    "point1 = div1point3(173.37)\n",
    "point02=div1point3(413.44)\n",
    "point01 = div1point3(601.13)\n",
    "\n",
    "for i in [point6, point2,point1, point02, point01]:\n",
    "    print(i)"
   ]
  },
  {
   "cell_type": "code",
   "execution_count": null,
   "metadata": {},
   "outputs": [],
   "source": []
  }
 ],
 "metadata": {
  "kernelspec": {
   "display_name": "Python 3",
   "language": "python",
   "name": "python3"
  },
  "language_info": {
   "codemirror_mode": {
    "name": "ipython",
    "version": 3
   },
   "file_extension": ".py",
   "mimetype": "text/x-python",
   "name": "python",
   "nbconvert_exporter": "python",
   "pygments_lexer": "ipython3",
   "version": "3.7.3"
  }
 },
 "nbformat": 4,
 "nbformat_minor": 2
}
