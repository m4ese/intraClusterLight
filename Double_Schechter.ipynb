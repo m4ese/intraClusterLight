{
 "cells": [
  {
   "cell_type": "code",
   "execution_count": 1,
   "metadata": {},
   "outputs": [],
   "source": [
    "import matplotlib.pyplot as plt\n",
    "import seaborn as sns\n",
    "import numpy as np"
   ]
  },
  {
   "cell_type": "code",
   "execution_count": 3,
   "metadata": {},
   "outputs": [],
   "source": [
    "def schechter(alpha,n0,L):\n",
    "    lstar = 1\n",
    "    x = L/lstar\n",
    "    phi = n0/lstar * (x)**alpha * exp(-x)\n",
    "    return phi\n",
    "\n",
    "def double_schechter(alpha_1,n0_1,alpha_2,n0_2,L):\n",
    "    phi_tot = schechter(alpha_1,n0_1,L) + schechter(alpha_2,n0_2,L)\n",
    "    return phi_tot"
   ]
  },
  {
   "cell_type": "markdown",
   "metadata": {},
   "source": [
    "# Below, we will plot the parameters of the double schechter function in the i-band from Blanton et al. 2005, table 3. We first use the corrected row."
   ]
  },
  {
   "cell_type": "code",
   "execution_count": null,
   "metadata": {},
   "outputs": [],
   "source": []
  }
 ],
 "metadata": {
  "kernelspec": {
   "display_name": "Python 3",
   "language": "python",
   "name": "python3"
  },
  "language_info": {
   "codemirror_mode": {
    "name": "ipython",
    "version": 3
   },
   "file_extension": ".py",
   "mimetype": "text/x-python",
   "name": "python",
   "nbconvert_exporter": "python",
   "pygments_lexer": "ipython3",
   "version": "3.7.3"
  }
 },
 "nbformat": 4,
 "nbformat_minor": 2
}
