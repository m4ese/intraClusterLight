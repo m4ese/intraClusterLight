{
 "cells": [
  {
   "cell_type": "code",
   "execution_count": 2,
   "metadata": {},
   "outputs": [],
   "source": [
    "import astropy.units as u\n",
    "import astropy.constants as const\n",
    "import numpy as np\n",
    "from astropy.cosmology import WMAP9 as cosmo\n",
    "from decimal import Decimal\n",
    "import seaborn as sns\n",
    "\n",
    "h = .6932"
   ]
  },
  {
   "cell_type": "code",
   "execution_count": 3,
   "metadata": {},
   "outputs": [],
   "source": [
    "def distance(redshift):\n",
    "    '''gets a distance (in megaparsecs) from a redshift value'''    \n",
    "    H_0 = cosmo.H(0) # 69.32 km/s/Mpc\n",
    "    d = const.c.to('km/s')*redshift/H_0\n",
    "    return d"
   ]
  },
  {
   "cell_type": "code",
   "execution_count": 4,
   "metadata": {},
   "outputs": [],
   "source": [
    "def luminosity(Magnitude):\n",
    "    '''gives the Luminosity (in total solar luminosity) of a given object with an absolute magnitude given'''\n",
    "    \n",
    "    Lum = 10**(-(Magnitude-4.77)/2.5) *u.solLum\n",
    "    return Lum"
   ]
  },
  {
   "cell_type": "code",
   "execution_count": 5,
   "metadata": {},
   "outputs": [],
   "source": [
    "def Mass2Light(mass,luminosity):\n",
    "    # takes in the mass and luminosity of a galaxy, and returns the mass to light ratio\n",
    "    \n",
    "    M_to_L = mass / luminosity\n",
    "    return M_to_L"
   ]
  },
  {
   "cell_type": "code",
   "execution_count": 6,
   "metadata": {},
   "outputs": [
    {
     "name": "stdout",
     "output_type": "stream",
     "text": [
      "Distance to NGC5523 = 15.006921945470285 Mpc\n",
      "Distance to NGC4414 = 10.336179668493942 Mpc\n"
     ]
    }
   ],
   "source": [
    "z_5523 = 0.00347 # redshift for NGC 5523\n",
    "M_5523 = -19.75 # i-band mag for 5523\n",
    "\n",
    "z_4414 = 0.00239 # redshift for NGC 4414\n",
    "M_4414 = -21.65 # i-band mag for 4414\n",
    "\n",
    "\n",
    "d_5523 = distance(z_5523) # Mpc\n",
    "d_4414 = distance(z_4414) # Mpc\n",
    "\n",
    "M_0550 = -23.9 -0.75 # i-band mag for NGC 550\n",
    "M_h550 = 6.0E12 *u.solMass # halo mass for NGC550\n",
    "\n",
    "M_U145 = -2.37E+01 - 0.75 # i-band mag for UGCA145\n",
    "M_hU145 = 6.8E12 *u.solMass # halo mass for UGCA145\n",
    "\n",
    "print(\"Distance to NGC5523 = %s\" %(d_5523))\n",
    "print(\"Distance to NGC4414 = %s\" % (d_4414))"
   ]
  },
  {
   "cell_type": "code",
   "execution_count": 7,
   "metadata": {},
   "outputs": [
    {
     "name": "stdout",
     "output_type": "stream",
     "text": [
      "Luminosity of NGC5523 = 6.43E+09 solLum\n",
      "Luminosity of NGC4414 = 3.70E+10 solLum\n"
     ]
    }
   ],
   "source": [
    "L_i_5523 = luminosity(M_5523)\n",
    "L_i_4414 = luminosity(M_4414)\n",
    "\n",
    "print(\"Luminosity of NGC5523 = {:.2E}\".format(L_i_5523))\n",
    "print(\"Luminosity of NGC4414 = {:.2E}\".format(L_i_4414))"
   ]
  },
  {
   "cell_type": "code",
   "execution_count": 8,
   "metadata": {},
   "outputs": [
    {
     "name": "stdout",
     "output_type": "stream",
     "text": [
      "Stellar Mass of NGC4414 = 6.26E+10 solMass\n",
      "M_stellar / L_i for NGC 4414 = 1.69E+00 solMass / solLum\n"
     ]
    }
   ],
   "source": [
    "# mass for ngc 4414 from Vallejo et al. 2002\n",
    "M_4414 = 9.25E10 *u.solMass\n",
    "\n",
    "# correct for gas\n",
    "M_neutral_gas = 1.5E10 * u.solMass # neutral gas component (HI, H_2, and associated He)\n",
    "M_molecular = 6.5E9 *u.solMass #molecular gas (water, etc.)\n",
    "M_atomic = 8.4E9 * u.solMass # other atomic gasses\n",
    "M_stellar_4414 = M_4414 - M_neutral_gas - M_molecular - M_atomic\n",
    "print(\"Stellar Mass of NGC4414 = {:.2E}\".format(M_stellar_4414))\n",
    "#the mass subtraction is not perfect\n",
    "\n",
    "M_to_L_4414 = Mass2Light(M_stellar_4414, L_i_4414)\n",
    "print(\"M_stellar / L_i for NGC 4414 = {:.2E}\".format(M_to_L_4414))"
   ]
  },
  {
   "cell_type": "code",
   "execution_count": 9,
   "metadata": {},
   "outputs": [
    {
     "name": "stdout",
     "output_type": "stream",
     "text": [
      "Stellar Mass of NGC5523 = 1.00E+10 solMass\n",
      "M_stellar / L_i for NGC 5523 = 1.56E+00 solMass / solLum\n"
     ]
    }
   ],
   "source": [
    "# mass for NGC 5523 from Fulmer et al. 2018\n",
    "M_stellar_5523 = 1E10 *u.solMass #this mass is approximate, will do more digging\n",
    "'''Note: table 4: all values in table 4 are derived from apphot analyses of a sky-subtracted 3.6 micrometer \n",
    "image of NGC 5523.  The calcs of stellar masses assume M_o/L_o = 1.0.'''\n",
    "print(\"Stellar Mass of NGC5523 = {:.2E}\".format(M_stellar_5523))\n",
    "\n",
    "M_to_L_5523 = Mass2Light(M_stellar_5523, L_i_5523)\n",
    "print(\"M_stellar / L_i for NGC 5523 = {:.2E}\".format(M_to_L_5523))\n"
   ]
  },
  {
   "cell_type": "markdown",
   "metadata": {},
   "source": [
    "# This next section is for elliptical galaxies"
   ]
  },
  {
   "cell_type": "code",
   "execution_count": 10,
   "metadata": {},
   "outputs": [],
   "source": [
    "def i_mag(M_r, color):\n",
    "    '''this function takes the r-i color and the r band absolute magnitude of the i band'''\n",
    "    \n",
    "    M_i = M_r - color\n",
    "    return M_i\n"
   ]
  },
  {
   "cell_type": "code",
   "execution_count": 13,
   "metadata": {},
   "outputs": [
    {
     "name": "stdout",
     "output_type": "stream",
     "text": [
      "i-band Magnitude of UK 1197 = -20.2460\n",
      "i-band Magnitude of UK 0613 = -20.0990\n",
      "i-band Magnitude of UK 1394 = -20.3340\n",
      "i-band Magnitude of UGC 03960 = -18.5280\n"
     ]
    }
   ],
   "source": [
    "# UK 1197 (***says irregular galaxy***)\n",
    "M_r_1197 = -19.876 # r band magnitude\n",
    "C_1197 = 0.370 # r-i color\n",
    "Z_1197 = 0.0318 # redshift\n",
    "\n",
    "M_i_1197= i_mag(M_r_1197,C_1197)\n",
    "print(\"i-band Magnitude of UK 1197 = {0:.{1}f}\".format(M_i_1197,4))\n",
    "\n",
    "#UK 0613\n",
    "M_r_0613 = -19.731 # \n",
    "C_0613 = 0.368 # r-i color\n",
    "Z_0613 = 0.0272 # redshift\n",
    "\n",
    "M_i_0613= i_mag(M_r_0613,C_0613)\n",
    "print(\"i-band Magnitude of UK 0613 = {0:.{1}f}\".format(M_i_0613,4))\n",
    "\n",
    "#UK 1394\n",
    "M_r_1394 = -19.954 # \n",
    "C_1394 = 0.38 # r-i color\n",
    "Z_1394 = 0.0347 # redshift\n",
    "\n",
    "M_i_1394= i_mag(M_r_1394,C_1394)\n",
    "print(\"i-band Magnitude of UK 1394 = {0:.{1}f}\".format(M_i_1394,4))\n",
    "\n",
    "#UGC 03960\n",
    "M_r_03960 = -18.178 # \n",
    "C_03960 = 0.350 # r-i color\n",
    "Z_03960 = 0.0075 # redshift\n",
    "\n",
    "M_i_03960= i_mag(M_r_03960,C_03960)\n",
    "print(\"i-band Magnitude of UGC 03960 = {0:.{1}f}\".format(M_i_03960,4))\n",
    "\n",
    "#NGC2679\n",
    "M_i_2679 = -19.89\n",
    "Z_2679 = 0.00676\n",
    "\n",
    "\n"
   ]
  },
  {
   "cell_type": "code",
   "execution_count": 12,
   "metadata": {},
   "outputs": [
    {
     "name": "stdout",
     "output_type": "stream",
     "text": [
      "i-band Luminosity of UK 1197 = 1.015E+10 solLum\n",
      "i-band Luminosity of UK 0613 = 8.863E+09 solLum\n",
      "i-band Luminosity of UK 1394 = 1.101E+10 solLum\n",
      "i-band Luminosity of UGC 03960 = 2.085E+09 solLum\n",
      "i-band Luminosity of NGC 2679 = 7.311E+09 solLum\n"
     ]
    }
   ],
   "source": [
    "L_i_1197 = luminosity(M_i_1197)\n",
    "L_i_0613 = luminosity(M_i_0613)\n",
    "L_i_1394 = luminosity(M_i_1394)\n",
    "L_i_03960 = luminosity(M_i_03960)\n",
    "L_i_2679 = luminosity(M_i_2679)\n",
    "\n",
    "print('i-band Luminosity of UK 1197 = {:.3E}'.format(L_i_1197))\n",
    "print('i-band Luminosity of UK 0613 = {:.3E}'.format(L_i_0613))\n",
    "print('i-band Luminosity of UK 1394 = {:.3E}'.format(L_i_1394))\n",
    "print('i-band Luminosity of UGC 03960 = {:.3E}'.format(L_i_03960))\n",
    "print('i-band Luminosity of NGC 2679 = {:.3E}'.format(L_i_2679))"
   ]
  },
  {
   "cell_type": "code",
   "execution_count": 14,
   "metadata": {},
   "outputs": [
    {
     "name": "stdout",
     "output_type": "stream",
     "text": [
      "Distance to UK 1197 = 137.5274 Mpc\n",
      "Distance to UK 0613 = 117.6335 Mpc\n",
      "Distance to UK 1394 = 150.0692 Mpc\n",
      "Distance to UGC 03960 = 32.4357 Mpc\n",
      "Distance to NGC 2679 = 29.2354 Mpc\n"
     ]
    }
   ],
   "source": [
    "d_1197 = distance(Z_1197)\n",
    "print(\"Distance to UK 1197 = {0:.{1}f}\".format(d_1197,4))\n",
    "d_0613 = distance(Z_0613)\n",
    "print(\"Distance to UK 0613 = {0:.{1}f}\".format(d_0613,4))\n",
    "d_1394 = distance(Z_1394)\n",
    "print(\"Distance to UK 1394 = {0:.{1}f}\".format(d_1394,4))\n",
    "d_03960 = distance(Z_03960)\n",
    "print(\"Distance to UGC 03960 = {0:.{1}f}\".format(d_03960,4))\n",
    "d_2679 = distance(Z_2679)\n",
    "print(\"Distance to NGC 2679 = {0:.{1}f}\".format(d_2679,4))"
   ]
  },
  {
   "cell_type": "code",
   "execution_count": 15,
   "metadata": {},
   "outputs": [
    {
     "name": "stdout",
     "output_type": "stream",
     "text": [
      "Stellar Mass of UGC 03960 = 1.23E+10 solMass\n",
      "M_stellar / L_i for UGC 03960 = 5.90E+00 solMass / solLum\n",
      "\n",
      "Stellar Mass of UK 1197 = 1.41E+10 solMass\n",
      "M_stellar / L_i for UK 1197 = 1.39E+00 solMass / solLum\n",
      "\n",
      "Stellar Mass of UK 0613 = 2.24E+10 solMass\n",
      "M_stellar / L_i for UK 0613 = 2.53E+00 solMass / solLum\n",
      "\n",
      "Stellar Mass of UK 1394 = 1.35E+10 solMass\n",
      "M_stellar / L_i for UK 1394 = 1.23E+00 solMass / solLum\n"
     ]
    }
   ],
   "source": [
    "# first, we do the stellar mass per luminosity, \n",
    "# from UGC 03960\n",
    "M_stellar_03960 = 10**10.09 *u.solMass\n",
    "print(\"Stellar Mass of UGC 03960 = {:.2E}\".format(M_stellar_03960))\n",
    "\n",
    "M_to_L_03960 = Mass2Light(M_stellar_03960, L_i_03960)\n",
    "print(\"M_stellar / L_i for UGC 03960 = {:.2E}\".format(M_to_L_03960))\n",
    "\n",
    "print()\n",
    "\n",
    "#lets do 1197\n",
    "# M_stellar_1197 = 10**10.15/(h**2)*u.solMass\n",
    "M_stellar_1197 = 10**10.15 *u.solMass\n",
    "print(\"Stellar Mass of UK 1197 = {:.2E}\".format(M_stellar_1197))\n",
    "\n",
    "M_to_L_1197 = Mass2Light(M_stellar_1197, L_i_1197)\n",
    "print(\"M_stellar / L_i for UK 1197 = {:.2E}\".format(M_to_L_1197))\n",
    "\n",
    "print()\n",
    "#now 613\n",
    "# M_stellar_0613 = 10**10.35 / (h**2) *u.solMass\n",
    "M_stellar_0613 = 10**10.35 *u.solMass\n",
    "print(\"Stellar Mass of UK 0613 = {:.2E}\".format(M_stellar_0613))\n",
    "\n",
    "M_to_L_0613 = Mass2Light(M_stellar_0613,L_i_0613)\n",
    "print(\"M_stellar / L_i for UK 0613 = {:.2E}\".format(M_to_L_0613))\n",
    "\n",
    "print()\n",
    "# and 1394\n",
    "#M_stellar_1394 = 10**10.13 / (h**2) *u.solMass\n",
    "M_stellar_1394 = 10**10.13 *u.solMass\n",
    "print(\"Stellar Mass of UK 1394 = {:.2E}\".format(M_stellar_1394))\n",
    "\n",
    "M_to_L_1394 = Mass2Light(M_stellar_1394,L_i_1394)\n",
    "print(\"M_stellar / L_i for UK 1394 = {:.2E}\".format(M_to_L_1394))"
   ]
  },
  {
   "cell_type": "markdown",
   "metadata": {},
   "source": [
    "# Let's look at the Halo Mass data we have"
   ]
  },
  {
   "cell_type": "code",
   "execution_count": 17,
   "metadata": {},
   "outputs": [
    {
     "name": "stdout",
     "output_type": "stream",
     "text": [
      "Halo Mass 180 of UK 1197 = 6.03E+11 solMass\n",
      "Halo Mass 100 of UK 1197 = 6.75E+11 solMass\n",
      "Mass to Light for UK 1197 = 66.4994 solMass / solLum\n",
      "\n",
      "Halo Mass 180 of UK 0613 = 8.51E+11 solMass\n",
      "Halo Mass 100 of UK 0613 = 9.53E+11 solMass\n",
      "Mass to Light for UK 0613 = 107.5519 solMass / solLum\n",
      "\n",
      "Halo Mass 180 of UK 1394 = 5.62E+11 solMass\n",
      "Halo Mass 100 of UK 1394 = 6.30E+11 solMass\n",
      "Mass to Light for UK 1394 = 57.2292 solMass / solLum\n",
      "\n",
      "Mass to Light for NGC 2679 = 1.7219 solMass / solLum\n"
     ]
    }
   ],
   "source": [
    "#UK1197\n",
    "# M_halo_1197 = 10**11.78 / h*u.solMass # M180\n",
    "M_halo_1197 = 10**11.78 * u.solMass # M180\n",
    "print(\"Halo Mass 180 of UK 1197 = {:.2E}\".format(M_halo_1197))\n",
    "M_halo_1197 = 1.12 * M_halo_1197 #M100\n",
    "print(\"Halo Mass 100 of UK 1197 = {:.2E}\".format(M_halo_1197))\n",
    "\n",
    "M_halo_to_L_1197 = Mass2Light(M_halo_1197,L_i_1197)\n",
    "print(\"Mass to Light for UK 1197 = {:.4f}\".format(M_halo_to_L_1197))\n",
    "\n",
    "print()\n",
    "#UK0613\n",
    "#M_halo_0613 = 10**11.93 / h *u.solMass\n",
    "M_halo_0613 = 10**11.93 *u.solMass\n",
    "print(\"Halo Mass 180 of UK 0613 = {:.2E}\".format(M_halo_0613))\n",
    "M_halo_0613 = 1.12 * M_halo_0613 #M100\n",
    "print(\"Halo Mass 100 of UK 0613 = {:.2E}\".format(M_halo_0613))\n",
    "\n",
    "M_halo_to_L_0613 = Mass2Light(M_halo_0613,L_i_0613)\n",
    "print(\"Mass to Light for UK 0613 = {:.4f}\".format(M_halo_to_L_0613))\n",
    "\n",
    "print()\n",
    "# UK 1394\n",
    "#M_halo_1394 = 10**11.75 / h *u.solMass\n",
    "M_halo_1394 = 10**11.75 *u.solMass\n",
    "print(\"Halo Mass 180 of UK 1394 = {:.2E}\".format(M_halo_1394))\n",
    "M_halo_1394 = 1.12 * M_halo_1394 #M100\n",
    "print(\"Halo Mass 100 of UK 1394 = {:.2E}\".format(M_halo_1394))\n",
    "\n",
    "M_halo_to_L_1394 = Mass2Light(M_halo_1394,L_i_1394)\n",
    "print(\"Mass to Light for UK 1394 = {:.4f}\".format(M_halo_to_L_1394))\n",
    "\n",
    "print()\n",
    "#NGC2679\n",
    "M_dyn_2679 = 10**(10.10) * u.solMass\n",
    "\n",
    "M_halo_to_L_2679 = Mass2Light(M_dyn_2679,L_i_2679)\n",
    "print('Mass to Light for NGC 2679 = {:.4f}'.format(M_halo_to_L_2679))"
   ]
  },
  {
   "cell_type": "code",
   "execution_count": 18,
   "metadata": {},
   "outputs": [
    {
     "name": "stdout",
     "output_type": "stream",
     "text": [
      "Luminosity of NGC0550 = 1.47E+11 solLum\n",
      "Luminosity of UGCA145 = 1.22E+11 solLum\n",
      "Luminosity of NGC669 = 1.94E+11 solLum\n",
      "Luminosity of ESO142-G019 = 1.018591E+11 solLum\n",
      "\n",
      "Halo Mass 200 of UGCA 145 = 6.80E+12 solMass\n",
      "Halo Mass 100 of UGCA 145 = 7.82E+12 solMass\n",
      "Mass to Light for UGCA145 = 63.8567 solMass / solLum\n",
      "\n",
      "Halo Mass 200 of NGC 550 = 6.00E+12 solMass\n",
      "Halo Mass 100 of NGC 550 = 6.90E+12 solMass\n",
      "Mass to Light for NGC 550 = 63.8567 solMass / solLum\n",
      "\n",
      "Halo Mass 200 of NGC669 = 8.71E+12 solMass\n",
      "Halo Mass 100 of NGC669 = 1.00E+13 solMass\n",
      "Mass to Light for NGC669 = 51.6057 solMass / solLum\n",
      "\n",
      "Halo Mass 200 of ESO142-G019 = 8.32E+12 solMass\n",
      "Halo Mass 100 of ESO142-G019 = 9.57E+12 solMass\n",
      "Mass to Light for NGC669 = 93.9070 solMass / solLum\n"
     ]
    }
   ],
   "source": [
    "M_0550 = -23.9 +0.75 # i-band mag for NGC 550\n",
    "M_h550 = 6.0E12 *u.solMass # halo mass for NGC550\n",
    "\n",
    "M_U145 = -2.37E+01 + 0.75 # i-band mag for UGCA145\n",
    "M_hU145 = 6.8E12 *u.solMass # halo mass for UGCA145\n",
    "\n",
    "M_669 = -24.2 + 0.75 #i-band mag for NGC 669\n",
    "M_h669 = 10**(12.94) *u.solMass # halo mass for NGC 669\n",
    "\n",
    "M_E142 = -2.35E+01 + 0.75 #i-band mag for ESO142-G019\n",
    "M_hE142 = 10**(12.92) * u.solMass # halo mass for NGC 669\n",
    "\n",
    "L_i_550 = luminosity(M_0550)\n",
    "L_i_u145 = luminosity(M_U145)\n",
    "L_i_669 = luminosity(M_669)\n",
    "L_i_E142 = luminosity(M_E142)\n",
    "\n",
    "print(\"Luminosity of NGC0550 = {:.2E}\".format(L_i_550))\n",
    "print(\"Luminosity of UGCA145 = {:.2E}\".format(L_i_u145))\n",
    "print(\"Luminosity of NGC669 = {:.2E}\".format(L_i_669))\n",
    "print(\"Luminosity of ESO142-G019 = {:2E}\".format(L_i_E142))\n",
    "print()\n",
    "\n",
    "# spiral halo mass to lights\n",
    "print(\"Halo Mass 200 of UGCA 145 = {:.2E}\".format(M_hU145))\n",
    "M_hU145 = M_hU145 * 1.15\n",
    "print(\"Halo Mass 100 of UGCA 145 = {:.2E}\".format(M_hU145))\n",
    "M_halo_to_L_u145 = Mass2Light(M_hU145,L_i_u145)\n",
    "\n",
    "print(\"Mass to Light for UGCA145 = {:.4f}\".format(M_halo_to_L_u145))\n",
    "print()\n",
    "\n",
    "print(\"Halo Mass 200 of NGC 550 = {:.2E}\".format(M_h550))\n",
    "M_h550 = M_h550 * 1.15\n",
    "print(\"Halo Mass 100 of NGC 550 = {:.2E}\".format(M_h550))\n",
    "M_halo_to_L_550 = Mass2Light(M_h550,L_i_550)\n",
    "\n",
    "print(\"Mass to Light for NGC 550 = {:.4f}\".format(M_halo_to_L_u145))\n",
    "print()\n",
    "\n",
    "print(\"Halo Mass 200 of NGC669 = {:.2E}\".format(M_h669))\n",
    "M_h669 = M_h669 * 1.15\n",
    "print(\"Halo Mass 100 of NGC669 = {:.2E}\".format(M_h669))\n",
    "M_halo_to_L_669 = Mass2Light(M_h669,L_i_669)\n",
    "\n",
    "print(\"Mass to Light for NGC669 = {:.4f}\".format(M_halo_to_L_669))\n",
    "print()\n",
    "\n",
    "print(\"Halo Mass 200 of ESO142-G019 = {:.2E}\".format(M_hE142))\n",
    "M_hE142 = M_hE142 * 1.15\n",
    "print(\"Halo Mass 100 of ESO142-G019 = {:.2E}\".format(M_hE142))\n",
    "M_halo_to_L_E142 = Mass2Light(M_hE142,L_i_E142)\n",
    "\n",
    "print(\"Mass to Light for ESO142-G019 = {:.4f}\".format(M_halo_to_L_E142))\n"
   ]
  },
  {
   "cell_type": "code",
   "execution_count": 16,
   "metadata": {},
   "outputs": [],
   "source": [
    "import matplotlib.pyplot as plt\n",
    "import pandas as pd\n",
    "%matplotlib inline\n",
    "\n",
    "stellar_masses = [M_stellar_4414.value, M_stellar_5523.value,M_stellar_03960.value,M_stellar_0613.value, \n",
    "                  M_stellar_1197.value,M_stellar_1394.value]\n",
    "M_stellar_per_L = [M_to_L_4414.value, M_to_L_5523.value,M_to_L_03960.value,M_to_L_0613.value,\n",
    "                   M_to_L_1197.value,M_to_L_1394.value]"
   ]
  },
  {
   "cell_type": "code",
   "execution_count": 17,
   "metadata": {},
   "outputs": [
    {
     "name": "stdout",
     "output_type": "stream",
     "text": [
      "      Galaxy        Type  Stellar Mass  M_stellar_to L_i[solar units / h^2]\n",
      "0  Milky Way      Spiral  4.500000e+10                             1.500000\n",
      "1  Andromeda      Spiral  1.030000e+11                             2.942857\n",
      "2   NGC 4414      Spiral  6.260000e+10                             1.692678\n",
      "3   NGC 5523      Spiral  1.000000e+10                             1.555966\n",
      "4  UGC 03960  Elliptical  1.230269e+10                             5.899293\n",
      "5    UK 0613  Elliptical  2.238721e+10                             2.525806\n",
      "6    UK 1197  Elliptical  1.412538e+10                             1.391874\n",
      "7    UK 1394  Elliptical  1.348963e+10                             1.225745\n"
     ]
    }
   ],
   "source": [
    "# creating a dataset\n",
    "M_stellar_MW=4.5E10 *u.solMass #+-1.5 error\n",
    "M_stellar_M31 = 10.3E10 *u.solMass #+2.3, -1.7 errors\n",
    "\n",
    "L_i_MW = 3E10 *u.solLum\n",
    "L_i_M31 = 3.5E10 *u.solLum\n",
    "\n",
    "M_to_L_MW = Mass2Light(M_stellar_MW,L_i_MW)\n",
    "M_to_L_M31 = Mass2Light(M_stellar_M31, L_i_M31)\n",
    "\n",
    "M_stel_to_L = {'Galaxy': ['Milky Way', 'Andromeda','NGC 4414','NGC 5523', 'UGC 03960','UK 0613','UK 1197','UK 1394'], \n",
    "'Type': ['Spiral','Spiral','Spiral','Spiral','Elliptical','Elliptical','Elliptical',\n",
    "           'Elliptical'], \n",
    "'Stellar Mass': [M_stellar_MW.value, M_stellar_M31.value,M_stellar_4414.value, M_stellar_5523.value,M_stellar_03960.value,M_stellar_0613.value, \n",
    "                  M_stellar_1197.value,M_stellar_1394.value],\n",
    "'M_stellar_to L_i[solar units / h^2]': [M_to_L_MW.value,M_to_L_M31.value,M_to_L_4414.value, M_to_L_5523.value,M_to_L_03960.value,M_to_L_0613.value,\n",
    "                   M_to_L_1197.value,M_to_L_1394.value]}\n",
    "\n",
    "dataset = pd.DataFrame(data=M_stel_to_L)\n",
    "print(dataset)"
   ]
  },
  {
   "cell_type": "code",
   "execution_count": 18,
   "metadata": {},
   "outputs": [
    {
     "data": {
      "text/plain": [
       "([<matplotlib.axis.XTick at 0x1a1c252710>,\n",
       "  <matplotlib.axis.XTick at 0x1a1c238f28>,\n",
       "  <matplotlib.axis.XTick at 0x1a1c4c88d0>,\n",
       "  <matplotlib.axis.XTick at 0x1a1c4c8b00>,\n",
       "  <matplotlib.axis.XTick at 0x1a1c4d5358>,\n",
       "  <matplotlib.axis.XTick at 0x1a1c4d5860>,\n",
       "  <matplotlib.axis.XTick at 0x1a1c4f5a90>,\n",
       "  <matplotlib.axis.XTick at 0x1a1c238da0>,\n",
       "  <matplotlib.axis.XTick at 0x1a1c53bda0>,\n",
       "  <matplotlib.axis.XTick at 0x1a1c52a908>],\n",
       " <a list of 9 Text xticklabel objects>)"
      ]
     },
     "execution_count": 18,
     "metadata": {},
     "output_type": "execute_result"
    },
    {
     "data": {
      "image/png": "[encoded data removed]",
      "text/plain": [
       "<Figure size 872.225x360 with 1 Axes>"
      ]
     },
     "metadata": {},
     "output_type": "display_data"
    }
   ],
   "source": [
    "sns.set()\n",
    "sns.relplot(x= \"Stellar Mass\", y = \"M_stellar_to L_i[solar units / h^2]\", hue = \"Type\", style = \"Type\", \n",
    "            data = dataset, height = 5, aspect=11/5, s = 100)\n",
    "plt.xscale('log',basex=10) \n",
    "\n",
    "xticks= [1E10,2E10,3E10,4E10,5E10,6E10,7E10,8E10,9E10,1E11]\n",
    "xlabels = ['10^10','2','3','4','5','6','7','8','9']\n",
    "plt.xticks(ticks=xticks,labels= xlabels)"
   ]
  },
  {
   "cell_type": "code",
   "execution_count": 19,
   "metadata": {},
   "outputs": [
    {
     "name": "stdout",
     "output_type": "stream",
     "text": [
      "      Galaxy        Type     Halo_Mass  M_halo_to L_i[solar units h^-1]\n",
      "0  Milky Way      Spiral  1.500000e+12                        50.000000\n",
      "1  Andromeda      Spiral  2.000000e+12                        57.142857\n",
      "2    UK 0613  Elliptical  9.532746e+11                       107.551884\n",
      "3    UK 1197  Elliptical  6.748667e+11                        66.499445\n",
      "4    UK 1394  Elliptical  6.298223e+11                        57.229246\n",
      "5     NGC669      Spiral  1.001608e+13                        46.865051\n",
      "6    NGC 550      Spiral  6.900000e+12                        51.605720\n",
      "7   UGCA 145      Spiral  7.820000e+12                        63.856741\n"
     ]
    }
   ],
   "source": [
    "M_halo_MW = 1.5E12 *u.solMass\n",
    "M_halo_M31 = 2E12 *u.solMass\n",
    "\n",
    "M_halo_to_L_MW = Mass2Light(M_halo_MW,L_i_MW)\n",
    "M_halo_to_L_M31 = Mass2Light(M_halo_M31, L_i_M31)\n",
    "\n",
    "M_halo_to_LTABLE = {'Galaxy': ['Milky Way', 'Andromeda','UK 0613','UK 1197','UK 1394','NGC669', 'NGC 550', 'UGCA 145'], \n",
    "'Type': ['Spiral','Spiral','Elliptical','Elliptical',\n",
    "           'Elliptical', 'Spiral', 'Spiral', 'Spiral'], \n",
    "'Halo_Mass': [M_halo_MW.value, M_halo_M31.value, M_halo_0613.value, \n",
    "                      M_halo_1197.value,M_halo_1394.value, M_h669.value, M_h550.value, M_hU145.value],\n",
    "'M_halo_to L_i[solar units h^-1]': [M_halo_to_L_MW.value,M_halo_to_L_M31.value,M_halo_to_L_0613.value,\n",
    "                   M_halo_to_L_1197.value,M_halo_to_L_1394.value, M_halo_to_L_550.value,M_halo_to_L_669.value,M_halo_to_L_u145.value]}\n",
    "\n",
    "halodata = pd.DataFrame(data=M_halo_to_LTABLE)\n",
    "print(halodata)"
   ]
  },
  {
   "cell_type": "code",
   "execution_count": 20,
   "metadata": {},
   "outputs": [
    {
     "data": {
      "text/plain": [
       "([<matplotlib.axis.XTick at 0x1a1c8a8cf8>,\n",
       "  <matplotlib.axis.XTick at 0x1a1c8a8860>,\n",
       "  <matplotlib.axis.XTick at 0x1a1c8bedd8>,\n",
       "  <matplotlib.axis.XTick at 0x1a1c8c6208>,\n",
       "  <matplotlib.axis.XTick at 0x1a1c8c6860>,\n",
       "  <matplotlib.axis.XTick at 0x1a1c8c6d68>,\n",
       "  <matplotlib.axis.XTick at 0x1a1c4c8d68>],\n",
       " <a list of 7 Text xticklabel objects>)"
      ]
     },
     "execution_count": 20,
     "metadata": {},
     "output_type": "execute_result"
    },
    {
     "data": {
      "image/png": "[encoded data removed]",
      "text/plain": [
       "<Figure size 872.225x360 with 1 Axes>"
      ]
     },
     "metadata": {},
     "output_type": "display_data"
    }
   ],
   "source": [
    "sns.set()\n",
    "sns.relplot(x= \"Halo_Mass\", y = \"M_halo_to L_i[solar units h^-1]\", hue = \"Type\", style = \"Type\", \n",
    "            data = halodata, height = 5, aspect=11/5, s = 100)\n",
    "plt.xscale('log',basex=10) \n",
    "\n",
    "xticks= [7E11,8E11,9E11,1E12,2E12,3E12,4E12]\n",
    "# xlabels = ['5','6','7','8','9','1E12','2','3']\n",
    "plt.xticks(ticks=xticks)"
   ]
  },
  {
   "cell_type": "code",
   "execution_count": null,
   "metadata": {},
   "outputs": [],
   "source": []
  },
  {
   "cell_type": "code",
   "execution_count": null,
   "metadata": {},
   "outputs": [],
   "source": []
  }
 ],
 "metadata": {
  "kernelspec": {
   "display_name": "Python 3",
   "language": "python",
   "name": "python3"
  },
  "language_info": {
   "codemirror_mode": {
    "name": "ipython",
    "version": 3
   },
   "file_extension": ".py",
   "mimetype": "text/x-python",
   "name": "python",
   "nbconvert_exporter": "python",
   "pygments_lexer": "ipython3",
   "version": "3.7.3"
  }
 },
 "nbformat": 4,
 "nbformat_minor": 2
}
