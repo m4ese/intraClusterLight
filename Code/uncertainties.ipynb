{
 "cells": [
  {
   "cell_type": "code",
   "execution_count": 1,
   "metadata": {},
   "outputs": [],
   "source": [
    "import numpy as np\n",
    "import math as mat"
   ]
  },
  {
   "cell_type": "markdown",
   "metadata": {},
   "source": [
    "# We start with the uncertainties in the faint end slope\n",
    "\n",
    "* This is done in one of two ways:\n",
    "<ol>\n",
    "<li> Pick a center value. Find sum of squared distances from other values to that center value. Take the square root and then divide by the number of other values. </li>\n",
    "<li> Take all values. Find mean, and find sum of squared distances of all values from that mean. Take square root and divide by N-1 </li>\n",
    "</ol>"
   ]
  },
  {
   "cell_type": "code",
   "execution_count": 2,
   "metadata": {},
   "outputs": [
    {
     "name": "stdout",
     "output_type": "stream",
     "text": [
      "[168.81 198.39 237.66]\n",
      "[115.005 134.385 160.14 ]\n"
     ]
    }
   ],
   "source": [
    "#we will have 3 values: one for alpha = -1.2, one for alpha = -1.3, one for alpha = -1.4 (in that order)\n",
    "# all use a lower bound of 10^-3\n",
    "#center value is index 1\n",
    "# throughout the notebook, you will see multiplication by 0.85. This is because we want to calculate the uncertainty\n",
    "#without gas included\n",
    "values_SR = np.array([198.6,233.4,279.6])*0.85\n",
    "values_LSS = np.array([135.3,158.1,188.4])*0.85\n",
    "\n",
    "print(values_SR)\n",
    "print(values_LSS)"
   ]
  },
  {
   "cell_type": "code",
   "execution_count": 3,
   "metadata": {},
   "outputs": [
    {
     "name": "stdout",
     "output_type": "stream",
     "text": [
      "Lower bound and Alpha, Small Radii\n",
      "------------------------------ \n",
      "\n",
      "The uncertainty is 34.8, or 17.52% of the center value\n",
      "\n",
      " Lower bound and Alpha, Large Radii\n",
      "------------------------------ \n",
      "\n",
      "The uncertainty is 22.8, or 16.96% of the center value\n"
     ]
    }
   ],
   "source": [
    "# we start with method 1. We pick the center value as index 1, which was calculated with a slope of -1.3 \n",
    "#and a bound of 10^-4 \n",
    "\n",
    "def rms_center(center_ind,values):\n",
    "    rms = 0.0\n",
    "    for val in values:\n",
    "        dist = val - values[center_ind]\n",
    "        rms += dist**2\n",
    "    \n",
    "    rms = (rms/(len(values)-1))**0.5\n",
    "    print('The uncertainty is {act:.1f}, or {rel:.2f}% of the center value'\\\n",
    "      .format(act = rms,rel=100*rms/values[center_ind]))\n",
    "    \n",
    "    return [rms,rms/values[center_ind]]\n",
    "\n",
    "print('Lower bound and Alpha, Small Radii')\n",
    "print('------------------------------ \\n')\n",
    "uncert_SR = rms_center(1,values_SR)\n",
    "print('\\n Lower bound and Alpha, Large Radii')\n",
    "print('------------------------------ \\n')\n",
    "uncert_LSS = rms_center(1,values_LSS)"
   ]
  },
  {
   "cell_type": "code",
   "execution_count": 4,
   "metadata": {},
   "outputs": [
    {
     "name": "stdout",
     "output_type": "stream",
     "text": [
      "201.62\n",
      "The uncertainty is 34.5, or 17.13% of the mean\n",
      "136.51\n",
      "The uncertainty is 22.6, or 16.59% of the mean\n",
      "\n",
      "17.409376062362846\n",
      "\n",
      "16.84891243835407\n"
     ]
    }
   ],
   "source": [
    "# here's method 2. This just simply uses the mean.\n",
    "def rms_mean(values):\n",
    "    rms_2 = 0.0\n",
    "    mean = np.mean(values)\n",
    "    print(mean)\n",
    "\n",
    "    for val in values:\n",
    "        dist_sqrd = (val - mean)**2\n",
    "        rms_2 += dist_sqrd\n",
    "\n",
    "    rms_2 = (rms_2/(len(values)-1))**0.5\n",
    "\n",
    "    print('The uncertainty is {act:.1f}, or {rel:.2f}% of the mean'\\\n",
    "          .format(act = rms_2,rel=100*rms_2/mean))\n",
    "    \n",
    "    return [rms_2,rms_2/mean]\n",
    "\n",
    "uncert_mean_SR = rms_mean(values_SR)\n",
    "uncert_mean_LSS = rms_mean(values_LSS)\n",
    "\n",
    "print('\\n' + str(100*uncert_mean_SR[0] / values_SR[1]))\n",
    "print('\\n' + str(100*uncert_mean_LSS[0] / values_LSS[1]))"
   ]
  },
  {
   "cell_type": "markdown",
   "metadata": {},
   "source": [
    "**10<sup>-3</sup>** L*\n",
    "* For small radii, we get an uncertainty of 34.5, which is 17.4% of 198\n",
    "* For large radii, we get an uncertainty of 22.6, which is 16.9% of 134"
   ]
  },
  {
   "cell_type": "code",
   "execution_count": 5,
   "metadata": {},
   "outputs": [
    {
     "name": "stdout",
     "output_type": "stream",
     "text": [
      "237.57500000000002\n",
      "The uncertainty is 57.2, or 24.07% of the mean\n",
      "160.48\n",
      "The uncertainty is 37.8, or 23.55% of the mean\n",
      "\n",
      "24.888446814780778\n",
      "\n",
      "24.337673782741867\n"
     ]
    }
   ],
   "source": [
    "#these next values are for a lower bound of 10^-4 and slope of +- 0.1\n",
    "values_SR_minus4 = np.array([217.3,270.3,350.9])*0.85\n",
    "values_LSS_minus4 = np.array([147.7,182.7,236.0])*0.85\n",
    "\n",
    "uncert_mean_SR_minus4 = rms_mean(values_SR_minus4)\n",
    "uncert_mean_LSS_minus4 = rms_mean(values_LSS_minus4)\n",
    "\n",
    "print('\\n' + str(100*uncert_mean_SR_minus4[0] / values_SR_minus4[1]))\n",
    "print('\\n' + str(100*uncert_mean_LSS_minus4[0] / values_LSS_minus4[1]))"
   ]
  },
  {
   "cell_type": "code",
   "execution_count": 6,
   "metadata": {},
   "outputs": [
    {
     "name": "stdout",
     "output_type": "stream",
     "text": [
      "219.5975\n",
      "The uncertainty is 46.6, or 21.23% of the mean\n",
      "148.49499999999998\n",
      "The uncertainty is 30.8, or 20.74% of the mean\n"
     ]
    }
   ],
   "source": [
    "#print(values_SR_minus4)\n",
    "#print(values_LSS_minus4)\n",
    "\n",
    "values_bound_alpha_SR = np.concatenate((values_SR,values_SR_minus4))\n",
    "values_bound_alpha_LSS = np.concatenate((values_LSS,values_LSS_minus4))\n",
    "\n",
    "uncert_mean_alphaBound_SR = rms_mean(values_bound_alpha_SR)\n",
    "uncert_mean_alphaBound_LSS = rms_mean(values_bound_alpha_LSS)"
   ]
  },
  {
   "cell_type": "markdown",
   "metadata": {},
   "source": [
    "**10<sup>-4</sup>** L*\n",
    "* For small radii, we get an uncertainty of 57.2, which is 24.9% of 229.8\n",
    "* For large radii, we get an uncertainty of 37.8, which is 24.3% of 155.3"
   ]
  },
  {
   "cell_type": "markdown",
   "metadata": {},
   "source": [
    "# Now, we're going to find the uncertainty in the Leuthaud slope. \n",
    "This uses the same functions as above"
   ]
  },
  {
   "cell_type": "markdown",
   "metadata": {},
   "source": [
    "**First, we check how different slopes compare to the data in Leuthaud.**"
   ]
  },
  {
   "cell_type": "code",
   "execution_count": 16,
   "metadata": {},
   "outputs": [
    {
     "data": {
      "text/plain": [
       "<matplotlib.image.AxesImage at 0x11d9ff160>"
      ]
     },
     "execution_count": 16,
     "metadata": {},
     "output_type": "execute_result"
    },
    {
     "data": {
      "image/png": "[encoded data removed]",
      "text/plain": [
       "<Figure size 1152x864 with 1 Axes>"
      ]
     },
     "metadata": {
      "needs_background": "light"
     },
     "output_type": "display_data"
    }
   ],
   "source": [
    "#loading in leuthaud figure for reference\n",
    "import matplotlib.image as mpimg \n",
    "\n",
    "fig = plt.figure(figsize = (16,12))\n",
    "ax = plt.subplot(111)\n",
    "#reading in image \n",
    "img = mpimg.imread('./Figures/LeuthaudFig10.png') \n",
    "\n",
    "#outputting it\n",
    "ax.set_axis_off()\n",
    "ax.set_title('Leuthaud Figure 10',fontsize = 24,fontweight = \"bold\")\n",
    "ax.imshow(img)"
   ]
  },
  {
   "cell_type": "code",
   "execution_count": 19,
   "metadata": {},
   "outputs": [
    {
     "name": "stdout",
     "output_type": "stream",
     "text": [
      "               0           1\n",
      "0   4.162825e+08  233.107619\n",
      "1   4.392406e+08  224.455041\n",
      "2   4.718445e+08  216.123633\n",
      "3   5.068686e+08  208.101473\n",
      "4   5.444724e+08  196.623081\n",
      "5   5.848874e+08  189.324750\n",
      "6   6.283024e+08  182.297321\n",
      "7   6.749400e+08  175.530740\n",
      "8   7.250394e+08  169.015322\n",
      "9   7.929105e+08  159.692831\n",
      "10  8.671670e+08  153.765292\n",
      "11  9.483427e+08  145.283957\n",
      "12  1.037117e+09  137.270433\n",
      "13  1.134244e+09  132.175176\n",
      "14  1.262848e+09  124.884702\n",
      "15  1.381064e+09  117.996353\n",
      "16  1.537681e+09  112.547202\n",
      "17  1.712028e+09  106.339361\n",
      "18  1.872292e+09  100.473930\n",
      "19  2.047595e+09   95.833976\n",
      "20  2.239271e+09   90.547997\n",
      "21  2.493167e+09   85.553581\n",
      "22  2.775850e+09   80.834645\n",
      "23  3.035698e+09   76.375995\n",
      "24  3.319993e+09   73.541041\n",
      "25  3.763119e+09   68.182915\n",
      "26  4.265546e+09   64.422104\n",
      "27  4.966593e+09   59.728375\n",
      "28  5.629598e+09   55.902762\n",
      "29  6.324193e+09   52.322180\n",
      "30  7.168296e+09   48.510039\n",
      "31  8.271967e+09   44.975646\n",
      "32  9.376388e+09   42.494895\n",
      "33  1.062826e+10   40.150975\n"
     ]
    },
    {
     "name": "stderr",
     "output_type": "stream",
     "text": [
      "/anaconda3/lib/python3.7/site-packages/pandas/core/indexing.py:1494: FutureWarning: \n",
      "Passing list-likes to .loc or [] with any missing label will raise\n",
      "KeyError in the future, you can use .reindex() as an alternative.\n",
      "\n",
      "See the documentation here:\n",
      "https://pandas.pydata.org/pandas-docs/stable/indexing.html#deprecate-loc-reindex-listlike\n",
      "  return self._getitem_tuple(key)\n"
     ]
    }
   ],
   "source": [
    "import pandas as pd\n",
    "blue_line = pd.read_csv('./Data/LeuthBlueLine.csv',header=None)\n",
    "leuth_points = pd.read_csv('./Data/LeuthLowLumPoints.csv',header = None)\n",
    "blue_line.append([26,3.5E10])\n",
    "print(blue_line)\n",
    "#print(leuth_points)"
   ]
  },
  {
   "cell_type": "code",
   "execution_count": 8,
   "metadata": {},
   "outputs": [
    {
     "data": {
      "text/plain": [
       "<Figure size 1400x2000 with 5 Axes>"
      ]
     },
     "metadata": {},
     "output_type": "display_data"
    }
   ],
   "source": [
    "import matplotlib.pyplot as plt\n",
    "import random\n",
    "\n",
    "def sloped_line(L,slope):\n",
    "    norm = 1.05e7\n",
    "    y = norm * L**(slope)\n",
    "    return y\n",
    "\n",
    "lums = np.arange(1e7,5e10,1e8)\n",
    "\n",
    "leuth_line_lums = blue_line[0]\n",
    "leuth_line_mPerMstar = blue_line[1]\n",
    "\n",
    "#slope of -0.58\n",
    "five_eight_fracs = sloped_line(lums,-0.58)\n",
    "#slope of -0.56\n",
    "five_six_fracs = sloped_line(lums,-0.56)\n",
    "#slope of -0.54\n",
    "five_four_fracs = sloped_line(lums,-0.54)\n",
    "#slope of -0.52\n",
    "five_two_fracs = sloped_line(lums,-0.52)\n",
    "#slope of -0.50\n",
    "five_oh_fracs = sloped_line(lums,-0.50)\n",
    "\n",
    "funcs = [five_eight_fracs,five_six_fracs,five_four_fracs,five_two_fracs,five_oh_fracs]\n",
    "names = ['-0.58','-0.56','-0.54','-0.52','-0.50']\n",
    "colors = ['g','k','m','y','purple']\n",
    "\n",
    "fig,axs = plt.subplots(nrows = 5,ncols = 1,figsize = (14,20))\n",
    "for i in range(len(funcs)):\n",
    "    axs[i].plot(leuth_line_lums,leuth_line_mPerMstar,label = 'Leuthaud Main Fit')\n",
    "    axs[i].scatter(leuth_points[0],leuth_points[1],color = 'r',alpha = 0.5,label = 'Leuthaud Low Lum Points')\n",
    "\n",
    "    axs[i].set_xscale('log',basex=10)\n",
    "    axs[i].set_yscale('log',basey=10)\n",
    "    \n",
    "    axs[i].set_xlim(1e7,5e10)\n",
    "    axs[i].set_ylim(30,5e3)\n",
    "\n",
    "    axs[i].plot(lums,funcs[i],color = colors[i],label = 'slope = '+ names[i],alpha = 0.7)\n",
    "    axs[i].legend(bbox_to_anchor=(1.05, 1))\n",
    "    \n",
    "    axs[i].set_xlabel('Stellar Mass (Solar Masses)')\n",
    "    axs[i].set_xlabel('Total Mass / Stellar Mass')\n",
    "    axs[i].set_title('Slope of ' + names[i],fontsize = 16)\n",
    "\n",
    "fig.subplots_adjust(hspace = 0.7)\n",
    "\n",
    "plt.savefig('./Figures/Different_Leuthaud_Slopes.png')\n",
    "plt.show()"
   ]
  },
  {
   "cell_type": "code",
   "execution_count": 9,
   "metadata": {},
   "outputs": [
    {
     "name": "stdout",
     "output_type": "stream",
     "text": [
      "Leuthaud Slope, Small Radii\n",
      "------------------------------ \n",
      "\n",
      "198.73\n",
      "The uncertainty is 11.6, or 5.82% of the mean\n",
      "\n",
      " Leuthaud Slope, Large Radii\n",
      "------------------------------ \n",
      "\n",
      "134.58333333333334\n",
      "The uncertainty is 7.7, or 5.72% of the mean\n",
      "\n",
      "5.82879650786713\n",
      "\n",
      "5.725651931784282\n"
     ]
    }
   ],
   "source": [
    "# the arrays are for values as follows: first value is for a M/L proportional to L^(-0.56), then our center value of \n",
    "# L^(-0.54), then L^(-0.52)\n",
    "\n",
    "leuth_vals_SR = np.array([247.6,233.4,220.4])*0.85\n",
    "leuth_vals_LSS = np.array([167.5,158.1,149.4])*0.85\n",
    "\n",
    "print('Leuthaud Slope, Small Radii')\n",
    "print('------------------------------ \\n')\n",
    "\n",
    "uncert_leuth_SR = rms_mean(leuth_vals_SR)\n",
    "\n",
    "print('\\n Leuthaud Slope, Large Radii')\n",
    "print('------------------------------ \\n')\n",
    "\n",
    "uncert_leuth_LSS = rms_mean(leuth_vals_LSS)\n",
    "\n",
    "print('\\n' + str(100*uncert_leuth_SR[0] / leuth_vals_SR[1]))\n",
    "print('\\n' + str(100*uncert_leuth_LSS[0] / leuth_vals_LSS[1]))"
   ]
  },
  {
   "cell_type": "markdown",
   "metadata": {},
   "source": [
    "* SR: 11.6, or 5.8% of 198\n",
    "* LSS: 7.7, or 5.7% of 134.4"
   ]
  },
  {
   "cell_type": "markdown",
   "metadata": {},
   "source": [
    "# And finally, we're going to do the uncertainty in galaxy morphology.\n",
    "\n",
    "* **For small radii, we consider three cases**:\n",
    "<ol>\n",
    "    \n",
    "    <li> Base Case: <ul> <li> Bright: 10% Sp, 90% E </li>\n",
    "        <li>Faint: 20% Sp, 80% E </li> </ul> </li>\n",
    "    \n",
    "    <li> Case 2: <ul> <li> Bright: 10% Sp, 90% E </li>\n",
    "        <li> Faint: 30% Sp, 70% E </li> </ul> </li>\n",
    "        \n",
    "    <li> Case 3: <ul> <li> Bright: 10% Sp, 90% E  </li>\n",
    "\t<li> Faint: 10% Sp, 90% E </li> </ul> </li>\n",
    "</ol>\n",
    "\n",
    "* **For Large Scale Structure, we consider 6 cases**:\n",
    "<ol> \n",
    "    \n",
    "    <li> Base Case: <ul> <li> Bright: 50% Sp, 50% E </li>\n",
    "\t<li> Faint: 80% Sp, 20% E </li> </ul> </li>\n",
    "     \n",
    "     <li> Case 2 (more bright Sp): <ul> <li> Bright: 70% Sp, 30% E </li>\n",
    "         <li>Faint: 80% Sp, 20% E </li> </ul> </li>\n",
    "     \n",
    "     <li> Case 3 (more faint E): <ul> <li> Bright: 50% Sp, 50% E</li>\n",
    "     <li>Faint: 70% Sp, 30% E </li> </ul> </li>\n",
    "     \n",
    "     <li> Case 4 (more bright Sp, more faint E): <ul> <li>Bright: 70% Sp, 30% E</li>\n",
    "     <li>Faint: 70% Sp, 30% E</li> </ul> </li>\n",
    "     \n",
    "     <li> Case 5 (more faint Sp):  <ul> <li>Bright: 50% Sp, 50% E</li>\n",
    "     <li>Faint: 90% Sp, 10% E</li> </ul> </li>\n",
    "     \n",
    "     <li> Case 6 (more faint Sp, more bright Sp): <ul> <li> Bright: 70% Sp, 30% E</li>\n",
    "\t<li>Faint: 90% Sp, 10% E</li> </ul> </li>\n",
    "</ol>\n",
    "    \n",
    "  \n",
    "+ The values in each array are listed in the same order"
   ]
  },
  {
   "cell_type": "code",
   "execution_count": 10,
   "metadata": {},
   "outputs": [
    {
     "name": "stdout",
     "output_type": "stream",
     "text": [
      "Morphology, Small Radii\n",
      "------------------------------ \n",
      "\n",
      "198.41833333333332\n",
      "The uncertainty is 10.1, or 5.08% of the mean\n",
      "\n",
      " Morphology, Large Radii\n",
      "------------------------------ \n",
      "\n",
      "133.46416666666667\n",
      "The uncertainty is 9.1, or 6.79% of the mean\n"
     ]
    }
   ],
   "source": [
    "morph_vals_SR = np.array([233.4,221.6,245.3])*0.85\n",
    "morph_vals_LSS = np.array([158.1,156.0,169.9,167.8,146.2,144.1])*0.85\n",
    "\n",
    "print('Morphology, Small Radii')\n",
    "print('------------------------------ \\n')\n",
    "\n",
    "uncert_morph_SR = rms_mean(morph_vals_SR)\n",
    "\n",
    "#print(uncert_morph_SR[0]/morph_vals_SR[1])\n",
    "\n",
    "print('\\n Morphology, Large Radii')\n",
    "print('------------------------------ \\n')\n",
    "\n",
    "uncert_morph_LSS = rms_mean(morph_vals_LSS)\n",
    "\n",
    "#print(uncert_morph_LSS[0]/morph_vals_LSS[1])"
   ]
  },
  {
   "cell_type": "code",
   "execution_count": 11,
   "metadata": {},
   "outputs": [
    {
     "name": "stdout",
     "output_type": "stream",
     "text": [
      "[198.39  188.36  208.505]\n",
      "[134.385 132.6   144.415 142.63  124.27  122.485]\n"
     ]
    }
   ],
   "source": [
    "print(morph_vals_SR)\n",
    "print(morph_vals_LSS)"
   ]
  },
  {
   "cell_type": "markdown",
   "metadata": {},
   "source": [
    "* SR: 10.1, or 5.1% of 198\n",
    "* LSS: 9.1, or 6.8% of 134"
   ]
  },
  {
   "cell_type": "markdown",
   "metadata": {},
   "source": [
    "## Finally, we obtain the total uncertainty for these three factors. We do so by adding all of these in Quadrature"
   ]
  },
  {
   "cell_type": "code",
   "execution_count": 12,
   "metadata": {},
   "outputs": [
    {
     "name": "stdout",
     "output_type": "stream",
     "text": [
      "Total Relative Uncertainty for Small Radii (no lower bound): 20.78%\n",
      "Total Relative Uncertainty for Large Radii (no lower bound): 20.76%\n"
     ]
    }
   ],
   "source": [
    "# small radii\n",
    "CENTER_VAL_SR = 233.4*0.85\n",
    "CENTER_VAL_LSS = 158.1*0.85\n",
    "M_L_0_UNCERT = 0.083\n",
    "\n",
    "#print(uncert_mean_SR)\n",
    "#print(uncert_leuth_SR)\n",
    "#print(uncert_morph_SR)\n",
    "#print()\n",
    "\n",
    "total_uncert_SR = mat.sqrt((uncert_mean_SR[0]/CENTER_VAL_SR)**2 + \\\n",
    "                        (uncert_leuth_SR[0]/CENTER_VAL_SR)**2 + \\\n",
    "                        (uncert_morph_SR[0]/CENTER_VAL_SR)**2 + \\\n",
    "                          M_L_0_UNCERT**2)\n",
    "print('Total Relative Uncertainty for Small Radii (no lower bound): {:.2f}%'\\\n",
    "      .format(total_uncert_SR*100))\n",
    "\n",
    "total_uncert_LSS = mat.sqrt((uncert_mean_LSS[0]/CENTER_VAL_LSS)**2 + \\\n",
    "                        (uncert_leuth_LSS[0]/CENTER_VAL_LSS)**2 + \\\n",
    "                        (uncert_morph_LSS[0]/CENTER_VAL_LSS)**2 + \\\n",
    "                          M_L_0_UNCERT**2)\n",
    "print('Total Relative Uncertainty for Large Radii (no lower bound): {:.2f}%'\\\n",
    "      .format(total_uncert_LSS*100))"
   ]
  },
  {
   "cell_type": "code",
   "execution_count": 13,
   "metadata": {},
   "outputs": [
    {
     "name": "stdout",
     "output_type": "stream",
     "text": [
      "Total Relative Uncertainty for Small Radii (with lower bound): 26.09%\n",
      "Total Relative Uncertainty for Large Radii (with lower bound): 25.93%\n"
     ]
    }
   ],
   "source": [
    "#print(uncert_mean_alphaBound_SR)\n",
    "#print(uncert_mean_alphaBound_LSS)\n",
    "\n",
    "total_uncert_SR_bound = mat.sqrt((uncert_mean_alphaBound_SR[0]/CENTER_VAL_SR)**2 + \\\n",
    "                        (uncert_leuth_SR[0]/CENTER_VAL_SR)**2 + \\\n",
    "                        (uncert_morph_SR[0]/CENTER_VAL_SR)**2 + \\\n",
    "                          M_L_0_UNCERT**2)\n",
    "print('Total Relative Uncertainty for Small Radii (with lower bound): {:.2f}%'\\\n",
    "      .format(total_uncert_SR_bound*100))\n",
    "\n",
    "total_uncert_LSS_bound = mat.sqrt((uncert_mean_alphaBound_LSS[0]/CENTER_VAL_LSS)**2 + \\\n",
    "                        (uncert_leuth_LSS[0]/CENTER_VAL_LSS)**2 + \\\n",
    "                        (uncert_morph_LSS[0]/CENTER_VAL_LSS)**2 + \\\n",
    "                          M_L_0_UNCERT**2)\n",
    "print('Total Relative Uncertainty for Large Radii (with lower bound): {:.2f}%'\\\n",
    "      .format(total_uncert_LSS_bound*100))\n"
   ]
  },
  {
   "cell_type": "code",
   "execution_count": null,
   "metadata": {},
   "outputs": [],
   "source": []
  }
 ],
 "metadata": {
  "kernelspec": {
   "display_name": "Python 3",
   "language": "python",
   "name": "python3"
  },
  "language_info": {
   "codemirror_mode": {
    "name": "ipython",
    "version": 3
   },
   "file_extension": ".py",
   "mimetype": "text/x-python",
   "name": "python",
   "nbconvert_exporter": "python",
   "pygments_lexer": "ipython3",
   "version": "3.7.3"
  }
 },
 "nbformat": 4,
 "nbformat_minor": 2
}
