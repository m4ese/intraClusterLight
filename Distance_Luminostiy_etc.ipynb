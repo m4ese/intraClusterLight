{
 "cells": [
  {
   "cell_type": "code",
   "execution_count": 26,
   "metadata": {},
   "outputs": [],
   "source": [
    "import astropy.units as u\n",
    "import astropy.constants as const\n",
    "import numpy as np\n",
    "from astropy.cosmology import WMAP9 as cosmo\n",
    "from decimal import Decimal"
   ]
  },
  {
   "cell_type": "code",
   "execution_count": 14,
   "metadata": {},
   "outputs": [],
   "source": [
    "def distance(redshift):\n",
    "    '''gets a distance from a redshift value'''    \n",
    "    H_0 = cosmo.H(0) # 69.32 km/s/Mpc\n",
    "    d = const.c.to('km/s')*redshift/H_0\n",
    "    return d"
   ]
  },
  {
   "cell_type": "code",
   "execution_count": 21,
   "metadata": {},
   "outputs": [
    {
     "name": "stdout",
     "output_type": "stream",
     "text": [
      "Distance to NGC5523 = 15006921.945470285 pc\n",
      "Distance to NGC4414 = 10336179.668493943 pc\n"
     ]
    }
   ],
   "source": [
    "z_5523 = 0.00347\n",
    "z_4414 = 0.00239\n",
    "\n",
    "d_5523 = distance(z_5523) # Mpc\n",
    "d_4414 = distance(z_4414) # Mpc\n",
    "\n",
    "d_5523 = d_5523.to(u.pc) # pc\n",
    "d_4414 = d_4414.to(u.pc) # pc\n",
    "\n",
    "print(\"Distance to NGC5523 = %s\" %(d_5523))\n",
    "print(\"Distance to NGC4414 = %s\" % (d_4414))"
   ]
  },
  {
   "cell_type": "markdown",
   "metadata": {},
   "source": [
    "# Getting the actual luminosity from CalcTool.org Luminosity Calculator "
   ]
  },
  {
   "cell_type": "code",
   "execution_count": 30,
   "metadata": {},
   "outputs": [
    {
     "name": "stdout",
     "output_type": "stream",
     "text": [
      "Luminosity of NGC5523 = 6.79E+09 solLum\n",
      "Luminosity of NGC4414 = 3.91E+10 solLum\n"
     ]
    }
   ],
   "source": [
    "L_i_5523 = 6.79E9 * u.solLum\n",
    "L_i_4414 = 3.91E10 * u.solLum\n",
    "\n",
    "print(\"Luminosity of NGC5523 = {:.2E}\".format(L_i_5523))\n",
    "print(\"Luminosity of NGC4414 = {:.2E}\".format(L_i_4414))"
   ]
  },
  {
   "cell_type": "code",
   "execution_count": null,
   "metadata": {},
   "outputs": [],
   "source": []
  }
 ],
 "metadata": {
  "kernelspec": {
   "display_name": "Python 3",
   "language": "python",
   "name": "python3"
  },
  "language_info": {
   "codemirror_mode": {
    "name": "ipython",
    "version": 3
   },
   "file_extension": ".py",
   "mimetype": "text/x-python",
   "name": "python",
   "nbconvert_exporter": "python",
   "pygments_lexer": "ipython3",
   "version": "3.7.3"
  }
 },
 "nbformat": 4,
 "nbformat_minor": 2
}
