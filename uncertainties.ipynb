{
 "cells": [
  {
   "cell_type": "code",
   "execution_count": 1,
   "metadata": {},
   "outputs": [],
   "source": [
    "import numpy as np\n",
    "import math as mat"
   ]
  },
  {
   "cell_type": "markdown",
   "metadata": {},
   "source": [
    "# We start with the uncertainties in the lower bound and faint end slope\n",
    "\n",
    "* This is done in one of two ways:\n",
    "<ol>\n",
    "<li> Pick a center value. Find sum of squared distances from other values to that center value. Take the square root and then divide by the number of other values. </li>\n",
    "<li> Take all values. Find mean, and find sum of squared distances of all values from that mean. Take square root and divide by N-1 </li>\n",
    "</ol>"
   ]
  },
  {
   "cell_type": "code",
   "execution_count": 34,
   "metadata": {},
   "outputs": [],
   "source": [
    "#these 6 values are for the final M/L values with alpha = -1.3 and -1.4, with lower bounds of 10^-4 and 10^-3\n",
    "#all other parameters are held fixed \n",
    "\n",
    "#NOTE: these values are for small radii. Will test the large radii values to see if they give a similar uncertainty\n",
    "\n",
    "values_SR = [217.3,270.3,350.9,198.6,233.4,279.6]\n",
    "values_LSS = [147.7,182.7,236.0,135.3,158.1,188.4]"
   ]
  },
  {
   "cell_type": "code",
   "execution_count": 35,
   "metadata": {},
   "outputs": [
    {
     "name": "stdout",
     "output_type": "stream",
     "text": [
      "The uncertainty is 25.2, or 9.33% of the center value\n",
      "The uncertainty is 16.7, or 9.13% of the center value\n"
     ]
    }
   ],
   "source": [
    "# we start with method 1. We pick the center value as index 1, which was calculated with a slope of -1.3 \n",
    "#and a bound of 10^-4 \n",
    "\n",
    "def rms_center(center_ind,values):\n",
    "    rms = 0.0\n",
    "    for val in values:\n",
    "        dist = val - values[center_ind]\n",
    "        rms += dist**2\n",
    "\n",
    "    rms = (rms**0.5)/(len(values)-1)\n",
    "    print('The uncertainty is {act:.1f}, or {rel:.2f}% of the center value'\\\n",
    "      .format(act = rms,rel=100*rms/values[1]))\n",
    "    \n",
    "    return rms\n",
    "\n",
    "uncert = rms_center(1,values_SR)\n",
    "uncert_LSS = rms_center(1,values_LSS)"
   ]
  },
  {
   "cell_type": "code",
   "execution_count": 37,
   "metadata": {},
   "outputs": [
    {
     "name": "stdout",
     "output_type": "stream",
     "text": [
      "The uncertainty is 24.5, or 9.49% of the mean\n",
      "The uncertainty is 16.2, or 9.28% of the mean\n",
      "\n",
      "0.09073446347972726\n"
     ]
    }
   ],
   "source": [
    "# here's method 2. This just simply uses the mean.\n",
    "def rms_mean(values):\n",
    "    rms_2 = 0.0\n",
    "    mean = np.mean(values)\n",
    "    #print(mean)\n",
    "\n",
    "    for val in values:\n",
    "        dist_sqrd = (val - mean)**2\n",
    "        rms_2 += dist_sqrd\n",
    "\n",
    "    rms_2 = (rms_2**0.5)/(len(values)-1)\n",
    "\n",
    "    print('The uncertainty is {act:.1f}, or {rel:.2f}% of the mean'\\\n",
    "          .format(act = rms_2,rel=100*rms_2/mean))\n",
    "    \n",
    "    return rms_2\n",
    "\n",
    "uncert_mean = rms_mean(values_SR)\n",
    "uncert_mean_LSS = rms_mean(values_LSS)\n",
    "\n",
    "print('\\n' + str(uncert_mean / values[1]))"
   ]
  },
  {
   "cell_type": "markdown",
   "metadata": {},
   "source": [
    "+ As we can see here, both methods yeild a fairly similar uncertainty.\n",
    "<ol>\n",
    "    <li> Method 1: 25.2 M<sub>sol</sub> L<sub>sol</sub><sup>-1</sup>, 25.2 / 270.3 = 9.33% </li>\n",
    "    <li> Method 2: 24.5 M<sub>sol</sub> L<sub>sol</sub><sup>-1</sup>, 24.5 / 258.35 = 9.49% </li>\n",
    "</ol>"
   ]
  },
  {
   "cell_type": "markdown",
   "metadata": {},
   "source": [
    "# Now, we're going to find the uncertainty in the Leuthaud slope. \n",
    "This uses the same functions as above"
   ]
  },
  {
   "cell_type": "code",
   "execution_count": 38,
   "metadata": {},
   "outputs": [
    {
     "name": "stdout",
     "output_type": "stream",
     "text": [
      "Leuthaud Slope, Small Radii\n",
      "------------------------------ \n",
      "\n",
      "The uncertainty is 28.2, or 10.31% of the mean\n",
      "0.10432852386237514\n",
      "\n",
      " Leuthaud Slope, Large Radii\n",
      "------------------------------ \n",
      "\n",
      "The uncertainty is 18.8, or 10.17% of the mean\n"
     ]
    }
   ],
   "source": [
    "# the arrays are for values as follows: first value is for a M/L proportional to L^(-0.58), then our center value of \n",
    "# L^(-0.54), then L^(-0.50)\n",
    "\n",
    "leuth_vals_SR = [314.4,270.3,234.9]\n",
    "leuth_vals_LSS = [212.0,182.7,159.0]\n",
    "\n",
    "print('Leuthaud Slope, Small Radii')\n",
    "print('------------------------------ \\n')\n",
    "\n",
    "uncert_leuth_SR = rms_mean(leuth_vals_SR)\n",
    "\n",
    "print(28.2/270.3)\n",
    "\n",
    "print('\\n Leuthaud Slope, Large Radii')\n",
    "print('------------------------------ \\n')\n",
    "\n",
    "uncert_leuth_LSS = rms_mean(leuth_vals_LSS)"
   ]
  },
  {
   "cell_type": "code",
   "execution_count": null,
   "metadata": {},
   "outputs": [],
   "source": []
  }
 ],
 "metadata": {
  "kernelspec": {
   "display_name": "Python 3",
   "language": "python",
   "name": "python3"
  },
  "language_info": {
   "codemirror_mode": {
    "name": "ipython",
    "version": 3
   },
   "file_extension": ".py",
   "mimetype": "text/x-python",
   "name": "python",
   "nbconvert_exporter": "python",
   "pygments_lexer": "ipython3",
   "version": "3.7.3"
  }
 },
 "nbformat": 4,
 "nbformat_minor": 2
}
