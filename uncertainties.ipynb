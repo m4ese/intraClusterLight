{
 "cells": [
  {
   "cell_type": "code",
   "execution_count": 30,
   "metadata": {},
   "outputs": [],
   "source": [
    "import numpy as np\n",
    "import math as mat"
   ]
  },
  {
   "cell_type": "markdown",
   "metadata": {},
   "source": [
    "# We start with the uncertainties in the lower bound and faint end slope\n",
    "\n",
    "* This is done in one of two ways:\n",
    "<ol>\n",
    "<li> Pick a center value. Find sum of squared distances from other values to that center value. Take the square root and then divide by the number of other values. </li>\n",
    "<li> Take all values. Find mean, and find sum of squared distances of all values from that mean. Take square root and divide by N-1 </li>\n",
    "</ol>"
   ]
  },
  {
   "cell_type": "code",
   "execution_count": 31,
   "metadata": {},
   "outputs": [],
   "source": [
    "#these 6 values are for the final M/L values with alpha = -1.3 and -1.4, with lower bounds of 10^-4 and 10^-3\n",
    "#all other parameters are held fixed \n",
    "\n",
    "#order: lower = 10^-4: alpha -1.2,-1.3, -1.4 (same for lower = 10^-3)\n",
    "\n",
    "values_SR = [217.3,270.3,350.9,198.6,233.4,279.6]\n",
    "values_LSS = [147.7,182.7,236.0,135.3,158.1,188.4]"
   ]
  },
  {
   "cell_type": "code",
   "execution_count": 32,
   "metadata": {},
   "outputs": [
    {
     "name": "stdout",
     "output_type": "stream",
     "text": [
      "Lower bound and Alpha, Small Radii\n",
      "------------------------------ \n",
      "\n",
      "The uncertainty is 56.4, or 20.86% of the center value\n",
      "\n",
      " Lower bound and Alpha, Large Radii\n",
      "------------------------------ \n",
      "\n",
      "The uncertainty is 37.3, or 20.41% of the center value\n"
     ]
    }
   ],
   "source": [
    "# we start with method 1. We pick the center value as index 1, which was calculated with a slope of -1.3 \n",
    "#and a bound of 10^-4 \n",
    "\n",
    "def rms_center(center_ind,values):\n",
    "    rms = 0.0\n",
    "    for val in values:\n",
    "        dist = val - values[center_ind]\n",
    "        rms += dist**2\n",
    "    \n",
    "    rms = (rms/(len(values)-1))**0.5\n",
    "    print('The uncertainty is {act:.1f}, or {rel:.2f}% of the center value'\\\n",
    "      .format(act = rms,rel=100*rms/values[center_ind]))\n",
    "    \n",
    "    return [rms,rms/values[center_ind]]\n",
    "\n",
    "print('Lower bound and Alpha, Small Radii')\n",
    "print('------------------------------ \\n')\n",
    "uncert_SR = rms_center(1,values_SR)\n",
    "print('\\n Lower bound and Alpha, Large Radii')\n",
    "print('------------------------------ \\n')\n",
    "uncert_LSS = rms_center(1,values_LSS)"
   ]
  },
  {
   "cell_type": "code",
   "execution_count": 40,
   "metadata": {},
   "outputs": [
    {
     "name": "stdout",
     "output_type": "stream",
     "text": [
      "258.34999999999997\n",
      "The uncertainty is 54.8, or 21.23% of the mean\n",
      "174.70000000000002\n",
      "The uncertainty is 36.2, or 20.74% of the mean\n",
      "\n",
      "20.288842824264226\n",
      "\n",
      "19.83521036891513\n"
     ]
    }
   ],
   "source": [
    "# here's method 2. This just simply uses the mean.\n",
    "def rms_mean(values):\n",
    "    rms_2 = 0.0\n",
    "    mean = np.mean(values)\n",
    "    print(mean)\n",
    "\n",
    "    for val in values:\n",
    "        dist_sqrd = (val - mean)**2\n",
    "        rms_2 += dist_sqrd\n",
    "\n",
    "    rms_2 = (rms_2/(len(values)-1))**0.5\n",
    "\n",
    "    print('The uncertainty is {act:.1f}, or {rel:.2f}% of the mean'\\\n",
    "          .format(act = rms_2,rel=100*rms_2/mean))\n",
    "    \n",
    "    return [rms_2,rms_2/mean]\n",
    "\n",
    "uncert_mean_SR = rms_mean(values_SR)\n",
    "uncert_mean_LSS = rms_mean(values_LSS)\n",
    "\n",
    "print('\\n' + str(100*uncert_mean_SR[0] / values_SR[1]))\n",
    "print('\\n' + str(100*uncert_mean_LSS[0] / values_LSS[1]))"
   ]
  },
  {
   "cell_type": "markdown",
   "metadata": {},
   "source": [
    "+ As we can see here, both methods yeild a fairly similar uncertainty.\n",
    "<ol>\n",
    "    <li> Method 1: 25.2 M<sub>sol</sub> L<sub>sol</sub><sup>-1</sup>, 25.2 / 270.3 = 9.33% </li>\n",
    "    <li> Method 2: 24.5 M<sub>sol</sub> L<sub>sol</sub><sup>-1</sup>, 24.5 / 258.35 = 9.49% </li>\n",
    "</ol>"
   ]
  },
  {
   "cell_type": "markdown",
   "metadata": {},
   "source": [
    "# Now, we're going to find the uncertainty in the Leuthaud slope. \n",
    "This uses the same functions as above"
   ]
  },
  {
   "cell_type": "code",
   "execution_count": 41,
   "metadata": {},
   "outputs": [
    {
     "name": "stdout",
     "output_type": "stream",
     "text": [
      "Leuthaud Slope, Small Radii\n",
      "------------------------------ \n",
      "\n",
      "273.2\n",
      "The uncertainty is 39.8, or 14.58% of the mean\n",
      "\n",
      " Leuthaud Slope, Large Radii\n",
      "------------------------------ \n",
      "\n",
      "184.5666666666667\n",
      "The uncertainty is 26.5, or 14.38% of the mean\n",
      "\n",
      "14.735205549655625\n",
      "\n",
      "14.531615975777253\n"
     ]
    }
   ],
   "source": [
    "# the arrays are for values as follows: first value is for a M/L proportional to L^(-0.58), then our center value of \n",
    "# L^(-0.54), then L^(-0.50)\n",
    "\n",
    "leuth_vals_SR = [314.4,270.3,234.9]\n",
    "leuth_vals_LSS = [212.0,182.7,159.0]\n",
    "\n",
    "print('Leuthaud Slope, Small Radii')\n",
    "print('------------------------------ \\n')\n",
    "\n",
    "uncert_leuth_SR = rms_mean(leuth_vals_SR)\n",
    "\n",
    "print('\\n Leuthaud Slope, Large Radii')\n",
    "print('------------------------------ \\n')\n",
    "\n",
    "uncert_leuth_LSS = rms_mean(leuth_vals_LSS)\n",
    "\n",
    "print('\\n' + str(100*uncert_leuth_SR[0] / leuth_vals_SR[1]))\n",
    "print('\\n' + str(100*uncert_leuth_LSS[0] / leuth_vals_LSS[1]))"
   ]
  },
  {
   "cell_type": "markdown",
   "metadata": {},
   "source": [
    "# And finally, we're going to do the uncertainty in galaxy morphology.\n",
    "\n",
    "* **For small radii, we consider three cases**:\n",
    "<ol>\n",
    "    \n",
    "    <li> Base Case: <ul> <li> Bright: 10% Sp, 90% E </li>\n",
    "        <li>Faint: 20% Sp, 80% E </li> </ul> </li>\n",
    "    \n",
    "    <li> Case 2: <ul> <li> Bright: 10% Sp, 90% E </li>\n",
    "        <li> Faint: 30% Sp, 70% E </li> </ul> </li>\n",
    "        \n",
    "    <li> Case 3: <ul> <li> Bright: 10% Sp, 90% E  </li>\n",
    "\t<li> Faint: 10% Sp, 90% E </li> </ul> </li>\n",
    "</ol>\n",
    "\n",
    "* **For Large Scale Structure, we consider 6 cases**:\n",
    "<ol> \n",
    "    \n",
    "    <li> Base Case: <ul> <li> Bright: 50% Sp, 50% E </li>\n",
    "\t<li> Faint: 80% Sp, 20% E </li> </ul> </li>\n",
    "     \n",
    "     <li> Case 2 (more bright Sp): <ul> <li> Bright: 70% Sp, 30% E </li>\n",
    "         <li>Faint: 80% Sp, 20% E </li> </ul> </li>\n",
    "     \n",
    "     <li> Case 3 (more faint E): <ul> <li> Bright: 50% Sp, 50% E</li>\n",
    "     <li>Faint: 60% Sp, 40% E </li> </ul> </li>\n",
    "     \n",
    "     <li> Case 4 (more bright Sp, more faint E): <ul> <li>Bright: 70% Sp, 30% E</li>\n",
    "     <li>Faint: 60% Sp, 40% E</li> </ul> </li>\n",
    "     \n",
    "     <li> Case 5 (more faint Sp):  <ul> <li>Bright: 50% Sp, 50% E</li>\n",
    "     <li>Faint: 90% Sp, 10% E</li> </ul> </li>\n",
    "     \n",
    "     <li> Case 6 (more faint Sp, more bright Sp): <ul> <li> Bright: 70% Sp, 30% E</li>\n",
    "\t<li>Faint: 90% Sp, 10% E</li> </ul> </li>\n",
    "</ol>\n",
    "    \n",
    "  \n",
    "+ The values in each array are listed in the same order"
   ]
  },
  {
   "cell_type": "code",
   "execution_count": 42,
   "metadata": {},
   "outputs": [
    {
     "name": "stdout",
     "output_type": "stream",
     "text": [
      "Morphology, Small Radii\n",
      "------------------------------ \n",
      "\n",
      "270.33\n",
      "The uncertainty is 13.9, or 5.15% of the mean\n",
      "0.051424343322234556\n",
      "\n",
      " Morphology, Large Radii\n",
      "------------------------------ \n",
      "\n",
      "186.25\n",
      "The uncertainty is 19.1, or 10.23% of the mean\n",
      "0.10457158499863127\n"
     ]
    }
   ],
   "source": [
    "morph_vals_SR = [270.33,256.41,284.25]\n",
    "morph_vals_LSS = [182.65,180.57,210.49,208.41,168.73,166.65]\n",
    "\n",
    "print('Morphology, Small Radii')\n",
    "print('------------------------------ \\n')\n",
    "\n",
    "uncert_morph_SR = rms_mean(morph_vals_SR)\n",
    "\n",
    "print(13.9/270.3)\n",
    "\n",
    "print('\\n Morphology, Large Radii')\n",
    "print('------------------------------ \\n')\n",
    "\n",
    "uncert_morph_LSS = rms_mean(morph_vals_LSS)\n",
    "\n",
    "print(19.1/182.65)"
   ]
  },
  {
   "cell_type": "markdown",
   "metadata": {},
   "source": [
    "## Finally, we obtain the total uncertainty for these three factors. We do so by adding all of these in Quadrature"
   ]
  },
  {
   "cell_type": "code",
   "execution_count": 43,
   "metadata": {},
   "outputs": [
    {
     "name": "stdout",
     "output_type": "stream",
     "text": [
      "Total Relative Uncertainty for Small Radii: 25.60%\n",
      "Total Relative Uncertainty for Large Radii: 26.71%\n"
     ]
    }
   ],
   "source": [
    "# small radii\n",
    "CENTER_VAL_SR = 270.3\n",
    "CENTER_VAL_LSS = 182.7\n",
    "#print(uncert_mean_SR)\n",
    "#print(uncert_leuth_SR)\n",
    "#print(uncert_morph_SR)\n",
    "\n",
    "total_uncert_SR = mat.sqrt((uncert_mean_SR[0]/CENTER_VAL_SR)**2 + \\\n",
    "                        (uncert_leuth_SR[0]/CENTER_VAL_SR)**2 + \\\n",
    "                        (uncert_morph_SR[0]/CENTER_VAL_SR)**2)\n",
    "print('Total Relative Uncertainty for Small Radii: {:.2f}%'\\\n",
    "      .format(total_uncert_SR*100))\n",
    "\n",
    "total_uncert_LSS = mat.sqrt((uncert_mean_LSS[0]/CENTER_VAL_LSS)**2 + \\\n",
    "                        (uncert_leuth_LSS[0]/CENTER_VAL_LSS)**2 + \\\n",
    "                        (uncert_morph_LSS[0]/CENTER_VAL_LSS)**2)\n",
    "print('Total Relative Uncertainty for Large Radii: {:.2f}%'\\\n",
    "      .format(total_uncert_LSS*100))"
   ]
  },
  {
   "cell_type": "code",
   "execution_count": null,
   "metadata": {},
   "outputs": [],
   "source": []
  }
 ],
 "metadata": {
  "kernelspec": {
   "display_name": "Python 3",
   "language": "python",
   "name": "python3"
  },
  "language_info": {
   "codemirror_mode": {
    "name": "ipython",
    "version": 3
   },
   "file_extension": ".py",
   "mimetype": "text/x-python",
   "name": "python",
   "nbconvert_exporter": "python",
   "pygments_lexer": "ipython3",
   "version": "3.7.3"
  }
 },
 "nbformat": 4,
 "nbformat_minor": 2
}
