{
 "cells": [
  {
   "cell_type": "code",
   "execution_count": 4,
   "metadata": {},
   "outputs": [],
   "source": [
    "import numpy as np\n",
    "import math as mat"
   ]
  },
  {
   "cell_type": "markdown",
   "metadata": {},
   "source": [
    "# We start with the uncertainties in the faint end slope\n",
    "\n",
    "* This is done in one of two ways:\n",
    "<ol>\n",
    "<li> Pick a center value. Find sum of squared distances from other values to that center value. Take the square root and then divide by the number of other values. </li>\n",
    "<li> Take all values. Find mean, and find sum of squared distances of all values from that mean. Take square root and divide by N-1 </li>\n",
    "</ol>"
   ]
  },
  {
   "cell_type": "code",
   "execution_count": 11,
   "metadata": {},
   "outputs": [],
   "source": [
    "#we will have 3 values: one for alpha = -1.25, one for alpha = -1.3, one for alpha = -1.35 (in that order)\n",
    "# all use a lower bound of 10^-3\n",
    "#center value is index 1\n",
    "values_SR = [220.1,233.4,254.9]\n",
    "values_LSS = [145.8,158.1,172.2]"
   ]
  },
  {
   "cell_type": "code",
   "execution_count": 12,
   "metadata": {},
   "outputs": [
    {
     "name": "stdout",
     "output_type": "stream",
     "text": [
      "Lower bound and Alpha, Small Radii\n",
      "------------------------------ \n",
      "\n",
      "The uncertainty is 17.9, or 7.66% of the center value\n",
      "\n",
      " Lower bound and Alpha, Large Radii\n",
      "------------------------------ \n",
      "\n",
      "The uncertainty is 13.2, or 8.37% of the center value\n"
     ]
    }
   ],
   "source": [
    "# we start with method 1. We pick the center value as index 1, which was calculated with a slope of -1.3 \n",
    "#and a bound of 10^-4 \n",
    "\n",
    "def rms_center(center_ind,values):\n",
    "    rms = 0.0\n",
    "    for val in values:\n",
    "        dist = val - values[center_ind]\n",
    "        rms += dist**2\n",
    "    \n",
    "    rms = (rms/(len(values)-1))**0.5\n",
    "    print('The uncertainty is {act:.1f}, or {rel:.2f}% of the center value'\\\n",
    "      .format(act = rms,rel=100*rms/values[center_ind]))\n",
    "    \n",
    "    return [rms,rms/values[center_ind]]\n",
    "\n",
    "print('Lower bound and Alpha, Small Radii')\n",
    "print('------------------------------ \\n')\n",
    "uncert_SR = rms_center(1,values_SR)\n",
    "print('\\n Lower bound and Alpha, Large Radii')\n",
    "print('------------------------------ \\n')\n",
    "uncert_LSS = rms_center(1,values_LSS)"
   ]
  },
  {
   "cell_type": "code",
   "execution_count": 13,
   "metadata": {},
   "outputs": [
    {
     "name": "stdout",
     "output_type": "stream",
     "text": [
      "236.13333333333333\n",
      "The uncertainty is 17.6, or 7.44% of the mean\n",
      "158.7\n",
      "The uncertainty is 13.2, or 8.32% of the mean\n",
      "\n",
      "7.523683437377703\n",
      "\n",
      "8.355612469185571\n"
     ]
    }
   ],
   "source": [
    "# here's method 2. This just simply uses the mean.\n",
    "def rms_mean(values):\n",
    "    rms_2 = 0.0\n",
    "    mean = np.mean(values)\n",
    "    print(mean)\n",
    "\n",
    "    for val in values:\n",
    "        dist_sqrd = (val - mean)**2\n",
    "        rms_2 += dist_sqrd\n",
    "\n",
    "    rms_2 = (rms_2/(len(values)-1))**0.5\n",
    "\n",
    "    print('The uncertainty is {act:.1f}, or {rel:.2f}% of the mean'\\\n",
    "          .format(act = rms_2,rel=100*rms_2/mean))\n",
    "    \n",
    "    return [rms_2,rms_2/mean]\n",
    "\n",
    "uncert_mean_SR = rms_mean(values_SR)\n",
    "uncert_mean_LSS = rms_mean(values_LSS)\n",
    "\n",
    "print('\\n' + str(100*uncert_mean_SR[0] / values_SR[1]))\n",
    "print('\\n' + str(100*uncert_mean_LSS[0] / values_LSS[1]))"
   ]
  },
  {
   "cell_type": "markdown",
   "metadata": {},
   "source": [
    "* For small radii, we get an uncertainty of 17.6, which is 7.5% of 233\n",
    "* For large radii, we get an uncertainty of 13.2, which is 8.4% of 158"
   ]
  },
  {
   "cell_type": "markdown",
   "metadata": {},
   "source": [
    "# Now, we're going to find the uncertainty in the Leuthaud slope. \n",
    "This uses the same functions as above"
   ]
  },
  {
   "cell_type": "markdown",
   "metadata": {},
   "source": [
    "**First, we check how different slopes compare to the data in Leuthaud.**"
   ]
  },
  {
   "cell_type": "code",
   "execution_count": 14,
   "metadata": {},
   "outputs": [],
   "source": [
    "import pandas as pd\n",
    "blue_line = pd.read_csv('./Data/LeuthBlueLine.csv',header=None)\n",
    "leuth_points = pd.read_csv('./Data/LeuthLowLumPoints.csv',header = None)\n",
    "\n",
    "#print(blue_line)\n",
    "#print(leuth_points)"
   ]
  },
  {
   "cell_type": "code",
   "execution_count": 15,
   "metadata": {},
   "outputs": [
    {
     "data": {
      "text/plain": [
       "\"\\nimport matplotlib.pyplot as plt\\nimport random\\n\\ndef sloped_line(L,slope):\\n    norm = 1.05e7\\n    y = norm * L**(slope)\\n    return y\\n\\nlums = np.arange(1e7,5e10,1e8)\\n\\nleuth_line_lums = blue_line[0]\\nleuth_line_mPerMstar = blue_line[1]\\n\\n#slope of -0.58\\nfive_eight_fracs = sloped_line(lums,-0.58)\\n#slope of -0.56\\nfive_six_fracs = sloped_line(lums,-0.56)\\n#slope of -0.54\\nfive_four_fracs = sloped_line(lums,-0.54)\\n#slope of -0.52\\nfive_two_fracs = sloped_line(lums,-0.52)\\n#slope of -0.50\\nfive_oh_fracs = sloped_line(lums,-0.50)\\n\\nfuncs = [five_eight_fracs,five_six_fracs,five_four_fracs,five_two_fracs,five_oh_fracs]\\nnames = ['-0.58','-0.56','-0.54','-0.52','-0.50']\\ncolors = ['g','k','m','y','purple']\\n\\nfig,axs = plt.subplots(nrows = 5,ncols = 1,figsize = (14,20))\\nfor i in range(len(funcs)):\\n    axs[i].plot(leuth_line_lums,leuth_line_mPerMstar,label = 'Leuthaud Main Fit')\\n    axs[i].scatter(leuth_points[0],leuth_points[1],color = 'r',alpha = 0.5,label = 'Leuthaud Low Lum Points')\\n\\n    axs[i].set_xscale('log',basex=10)\\n    axs[i].set_yscale('log',basey=10)\\n    \\n    axs[i].set_xlim(1e7,5e10)\\n    axs[i].set_ylim(30,5e3)\\n\\n    axs[i].plot(lums,funcs[i],color = colors[i],label = 'slope = '+ names[i],alpha = 0.7)\\n    axs[i].legend(bbox_to_anchor=(1.05, 1))\\n    \\n    axs[i].set_xlabel('Stellar Mass (Solar Masses)')\\n    axs[i].set_xlabel('Total Mass / Stellar Mass')\\n    axs[i].set_title('Slope of ' + names[i],fontsize = 16)\\n\\nfig.subplots_adjust(hspace = 0.7)\\n\\nplt.savefig('./Figures/Different_Leuthaud_Slopes.png')\\nplt.show()\""
      ]
     },
     "execution_count": 15,
     "metadata": {},
     "output_type": "execute_result"
    }
   ],
   "source": [
    "'''\n",
    "import matplotlib.pyplot as plt\n",
    "import random\n",
    "\n",
    "def sloped_line(L,slope):\n",
    "    norm = 1.05e7\n",
    "    y = norm * L**(slope)\n",
    "    return y\n",
    "\n",
    "lums = np.arange(1e7,5e10,1e8)\n",
    "\n",
    "leuth_line_lums = blue_line[0]\n",
    "leuth_line_mPerMstar = blue_line[1]\n",
    "\n",
    "#slope of -0.58\n",
    "five_eight_fracs = sloped_line(lums,-0.58)\n",
    "#slope of -0.56\n",
    "five_six_fracs = sloped_line(lums,-0.56)\n",
    "#slope of -0.54\n",
    "five_four_fracs = sloped_line(lums,-0.54)\n",
    "#slope of -0.52\n",
    "five_two_fracs = sloped_line(lums,-0.52)\n",
    "#slope of -0.50\n",
    "five_oh_fracs = sloped_line(lums,-0.50)\n",
    "\n",
    "funcs = [five_eight_fracs,five_six_fracs,five_four_fracs,five_two_fracs,five_oh_fracs]\n",
    "names = ['-0.58','-0.56','-0.54','-0.52','-0.50']\n",
    "colors = ['g','k','m','y','purple']\n",
    "\n",
    "fig,axs = plt.subplots(nrows = 5,ncols = 1,figsize = (14,20))\n",
    "for i in range(len(funcs)):\n",
    "    axs[i].plot(leuth_line_lums,leuth_line_mPerMstar,label = 'Leuthaud Main Fit')\n",
    "    axs[i].scatter(leuth_points[0],leuth_points[1],color = 'r',alpha = 0.5,label = 'Leuthaud Low Lum Points')\n",
    "\n",
    "    axs[i].set_xscale('log',basex=10)\n",
    "    axs[i].set_yscale('log',basey=10)\n",
    "    \n",
    "    axs[i].set_xlim(1e7,5e10)\n",
    "    axs[i].set_ylim(30,5e3)\n",
    "\n",
    "    axs[i].plot(lums,funcs[i],color = colors[i],label = 'slope = '+ names[i],alpha = 0.7)\n",
    "    axs[i].legend(bbox_to_anchor=(1.05, 1))\n",
    "    \n",
    "    axs[i].set_xlabel('Stellar Mass (Solar Masses)')\n",
    "    axs[i].set_xlabel('Total Mass / Stellar Mass')\n",
    "    axs[i].set_title('Slope of ' + names[i],fontsize = 16)\n",
    "\n",
    "fig.subplots_adjust(hspace = 0.7)\n",
    "\n",
    "plt.savefig('./Figures/Different_Leuthaud_Slopes.png')\n",
    "plt.show()'''"
   ]
  },
  {
   "cell_type": "code",
   "execution_count": 17,
   "metadata": {},
   "outputs": [
    {
     "name": "stdout",
     "output_type": "stream",
     "text": [
      "Leuthaud Slope, Small Radii\n",
      "------------------------------ \n",
      "\n",
      "233.79999999999998\n",
      "The uncertainty is 13.6, or 5.82% of the mean\n",
      "\n",
      " Leuthaud Slope, Large Radii\n",
      "------------------------------ \n",
      "\n",
      "158.33333333333334\n",
      "The uncertainty is 9.1, or 5.72% of the mean\n",
      "\n",
      "5.828796507867133\n",
      "\n",
      "5.725651931784277\n"
     ]
    }
   ],
   "source": [
    "# the arrays are for values as follows: first value is for a M/L proportional to L^(-0.56), then our center value of \n",
    "# L^(-0.54), then L^(-0.52)\n",
    "\n",
    "leuth_vals_SR = [247.6,233.4,220.4]\n",
    "leuth_vals_LSS = [167.5,158.1,149.4]\n",
    "\n",
    "print('Leuthaud Slope, Small Radii')\n",
    "print('------------------------------ \\n')\n",
    "\n",
    "uncert_leuth_SR = rms_mean(leuth_vals_SR)\n",
    "\n",
    "print('\\n Leuthaud Slope, Large Radii')\n",
    "print('------------------------------ \\n')\n",
    "\n",
    "uncert_leuth_LSS = rms_mean(leuth_vals_LSS)\n",
    "\n",
    "print('\\n' + str(100*uncert_leuth_SR[0] / leuth_vals_SR[1]))\n",
    "print('\\n' + str(100*uncert_leuth_LSS[0] / leuth_vals_LSS[1]))"
   ]
  },
  {
   "cell_type": "markdown",
   "metadata": {},
   "source": [
    "* SR: 13.6, or 5.8% of 233\n",
    "* LSS: 9.1, or 5.7% of 158"
   ]
  },
  {
   "cell_type": "markdown",
   "metadata": {},
   "source": [
    "# And finally, we're going to do the uncertainty in galaxy morphology.\n",
    "\n",
    "* **For small radii, we consider three cases**:\n",
    "<ol>\n",
    "    \n",
    "    <li> Base Case: <ul> <li> Bright: 10% Sp, 90% E </li>\n",
    "        <li>Faint: 20% Sp, 80% E </li> </ul> </li>\n",
    "    \n",
    "    <li> Case 2: <ul> <li> Bright: 10% Sp, 90% E </li>\n",
    "        <li> Faint: 30% Sp, 70% E </li> </ul> </li>\n",
    "        \n",
    "    <li> Case 3: <ul> <li> Bright: 10% Sp, 90% E  </li>\n",
    "\t<li> Faint: 10% Sp, 90% E </li> </ul> </li>\n",
    "</ol>\n",
    "\n",
    "* **For Large Scale Structure, we consider 6 cases**:\n",
    "<ol> \n",
    "    \n",
    "    <li> Base Case: <ul> <li> Bright: 50% Sp, 50% E </li>\n",
    "\t<li> Faint: 80% Sp, 20% E </li> </ul> </li>\n",
    "     \n",
    "     <li> Case 2 (more bright Sp): <ul> <li> Bright: 70% Sp, 30% E </li>\n",
    "         <li>Faint: 80% Sp, 20% E </li> </ul> </li>\n",
    "     \n",
    "     <li> Case 3 (more faint E): <ul> <li> Bright: 50% Sp, 50% E</li>\n",
    "     <li>Faint: 70% Sp, 30% E </li> </ul> </li>\n",
    "     \n",
    "     <li> Case 4 (more bright Sp, more faint E): <ul> <li>Bright: 70% Sp, 30% E</li>\n",
    "     <li>Faint: 70% Sp, 30% E</li> </ul> </li>\n",
    "     \n",
    "     <li> Case 5 (more faint Sp):  <ul> <li>Bright: 50% Sp, 50% E</li>\n",
    "     <li>Faint: 90% Sp, 10% E</li> </ul> </li>\n",
    "     \n",
    "     <li> Case 6 (more faint Sp, more bright Sp): <ul> <li> Bright: 70% Sp, 30% E</li>\n",
    "\t<li>Faint: 90% Sp, 10% E</li> </ul> </li>\n",
    "</ol>\n",
    "    \n",
    "  \n",
    "+ The values in each array are listed in the same order"
   ]
  },
  {
   "cell_type": "code",
   "execution_count": 20,
   "metadata": {},
   "outputs": [
    {
     "name": "stdout",
     "output_type": "stream",
     "text": [
      "Morphology, Small Radii\n",
      "------------------------------ \n",
      "\n",
      "233.4333333333333\n",
      "The uncertainty is 11.9, or 5.08% of the mean\n",
      "0.053474887913771946\n",
      "\n",
      " Morphology, Large Radii\n",
      "------------------------------ \n",
      "\n",
      "157.01666666666668\n",
      "The uncertainty is 10.7, or 6.79% of the mean\n",
      "0.0683411703143767\n"
     ]
    }
   ],
   "source": [
    "morph_vals_SR = [233.4,221.6,245.3]\n",
    "morph_vals_LSS = [158.1,156.0,169.9,167.8,146.2,144.1]\n",
    "\n",
    "print('Morphology, Small Radii')\n",
    "print('------------------------------ \\n')\n",
    "\n",
    "uncert_morph_SR = rms_mean(morph_vals_SR)\n",
    "\n",
    "print(uncert_morph_SR[0]/morph_vals_SR[1])\n",
    "\n",
    "print('\\n Morphology, Large Radii')\n",
    "print('------------------------------ \\n')\n",
    "\n",
    "uncert_morph_LSS = rms_mean(morph_vals_LSS)\n",
    "\n",
    "print(uncert_morph_LSS[0]/morph_vals_LSS[1])"
   ]
  },
  {
   "cell_type": "markdown",
   "metadata": {},
   "source": [
    "* SR: 11.9, or 5.3% of 233\n",
    "* LSS: 10.7, or 6.8% of 158"
   ]
  },
  {
   "cell_type": "markdown",
   "metadata": {},
   "source": [
    "## Finally, we obtain the total uncertainty for these three factors. We do so by adding all of these in Quadrature"
   ]
  },
  {
   "cell_type": "code",
   "execution_count": 22,
   "metadata": {},
   "outputs": [
    {
     "name": "stdout",
     "output_type": "stream",
     "text": [
      "Total Relative Uncertainty for Small Radii: 13.61%\n",
      "Total Relative Uncertainty for Large Radii: 14.73%\n"
     ]
    }
   ],
   "source": [
    "# small radii\n",
    "CENTER_VAL_SR = 233.4\n",
    "CENTER_VAL_LSS = 158.1\n",
    "M_L_0_UNCERT = 0.083\n",
    "#print(uncert_mean_SR)\n",
    "#print(uncert_leuth_SR)\n",
    "#print(uncert_morph_SR)\n",
    "\n",
    "total_uncert_SR = mat.sqrt((uncert_mean_SR[0]/CENTER_VAL_SR)**2 + \\\n",
    "                        (uncert_leuth_SR[0]/CENTER_VAL_SR)**2 + \\\n",
    "                        (uncert_morph_SR[0]/CENTER_VAL_SR)**2 + \\\n",
    "                          M_L_0_UNCERT**2)\n",
    "print('Total Relative Uncertainty for Small Radii: {:.2f}%'\\\n",
    "      .format(total_uncert_SR*100))\n",
    "\n",
    "total_uncert_LSS = mat.sqrt((uncert_mean_LSS[0]/CENTER_VAL_LSS)**2 + \\\n",
    "                        (uncert_leuth_LSS[0]/CENTER_VAL_LSS)**2 + \\\n",
    "                        (uncert_morph_LSS[0]/CENTER_VAL_LSS)**2 + \\\n",
    "                          M_L_0_UNCERT**2)\n",
    "print('Total Relative Uncertainty for Large Radii: {:.2f}%'\\\n",
    "      .format(total_uncert_LSS*100))"
   ]
  },
  {
   "cell_type": "code",
   "execution_count": null,
   "metadata": {},
   "outputs": [],
   "source": []
  }
 ],
 "metadata": {
  "kernelspec": {
   "display_name": "Python 3",
   "language": "python",
   "name": "python3"
  },
  "language_info": {
   "codemirror_mode": {
    "name": "ipython",
    "version": 3
   },
   "file_extension": ".py",
   "mimetype": "text/x-python",
   "name": "python",
   "nbconvert_exporter": "python",
   "pygments_lexer": "ipython3",
   "version": "3.7.3"
  }
 },
 "nbformat": 4,
 "nbformat_minor": 2
}
