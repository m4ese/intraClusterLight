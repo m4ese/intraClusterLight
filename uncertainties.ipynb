{
 "cells": [
  {
   "cell_type": "code",
   "execution_count": 1,
   "metadata": {},
   "outputs": [],
   "source": [
    "import numpy as np\n",
    "import math as mat"
   ]
  },
  {
   "cell_type": "markdown",
   "metadata": {},
   "source": [
    "# We start with the uncertainties in the lower bound and faint end slope\n",
    "\n",
    "* This is done in one of two ways:\n",
    "<ol>\n",
    "<li> Pick a center value. Find sum of squared distances from other values to that center value. Take the square root and then divide by the number of other values. </li>\n",
    "<li> Take all values. Find mean, and find sum of squared distances of all values from that mean. Take square root and divide by N-1 </li>\n",
    "</ol>"
   ]
  },
  {
   "cell_type": "code",
   "execution_count": 2,
   "metadata": {},
   "outputs": [],
   "source": [
    "#these 6 values are for the final M/L values with alpha = -1.3 and -1.4, with lower bounds of 10^-4 and 10^-3\n",
    "#all other parameters are held fixed\n",
    "\n",
    "values = [217.3,270.3,350.9,198.6,233.4,279.6]"
   ]
  },
  {
   "cell_type": "code",
   "execution_count": 12,
   "metadata": {},
   "outputs": [
    {
     "name": "stdout",
     "output_type": "stream",
     "text": [
      "The uncertainty in lower bound and faint-end slope is 25.2, or 9.3%\n"
     ]
    }
   ],
   "source": [
    "# we start with method 1. We pick the center value as index 1, which was calculated with a slope of -1.3 \n",
    "#and a bound of 10^-4 \n",
    "\n",
    "rms = 0.0\n",
    "for val in values:\n",
    "    dist = val - values[1]\n",
    "    rms += dist**2\n",
    "\n",
    "rms = (rms**0.5)/(len(values)-1)\n",
    "print('The uncertainty in lower bound and faint-end slope is {act:.1f}, or {rel:.1f}%'\\\n",
    "      .format(act = rms,rel=100*rms/values[1]))\n",
    "\n",
    "def rms_center(center_ind,values):\n",
    "    rms = 0.0\n",
    "    for val in values:\n",
    "        dist = val - values[center_ind]\n",
    "        rms += dist**2\n",
    "\n",
    "    rms = (rms**0.5)/(len(values)-1)\n",
    "    print('The uncertainty is {act:.1f}, or {rel:.1f}%'\\\n",
    "      .format(act = rms,rel=100*rms/values[1]))\n",
    "    \n",
    "    return rms\n",
    "\n",
    "#uncert = rms_center(1,values)"
   ]
  },
  {
   "cell_type": "code",
   "execution_count": 13,
   "metadata": {},
   "outputs": [
    {
     "name": "stdout",
     "output_type": "stream",
     "text": [
      "258.34999999999997\n",
      "The uncertainty in lower bound and faint-end slope is 24.5, or 9.1%\n"
     ]
    }
   ],
   "source": [
    "rms_2 = 0.0\n",
    "mean = np.mean(values)\n",
    "print(mean)\n",
    "\n",
    "for val in values:\n",
    "    dist_sqrd = (val - mean)**2\n",
    "    rms_2 += dist_sqrd\n",
    "\n",
    "rms_2 = (rms_2**0.5)/(len(values)-1)\n",
    "\n",
    "print('The uncertainty in lower bound and faint-end slope is {act:.1f}, or {rel:.1f}%'\\\n",
    "      .format(act = rms_2,rel=100*rms_2/values[1]))    "
   ]
  },
  {
   "cell_type": "code",
   "execution_count": null,
   "metadata": {},
   "outputs": [],
   "source": []
  }
 ],
 "metadata": {
  "kernelspec": {
   "display_name": "Python 3",
   "language": "python",
   "name": "python3"
  },
  "language_info": {
   "codemirror_mode": {
    "name": "ipython",
    "version": 3
   },
   "file_extension": ".py",
   "mimetype": "text/x-python",
   "name": "python",
   "nbconvert_exporter": "python",
   "pygments_lexer": "ipython3",
   "version": "3.7.3"
  }
 },
 "nbformat": 4,
 "nbformat_minor": 2
}
