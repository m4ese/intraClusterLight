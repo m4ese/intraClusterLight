{
 "cells": [
  {
   "cell_type": "code",
   "execution_count": 1,
   "metadata": {},
   "outputs": [],
   "source": [
    "import numpy as np\n",
    "import math as mat"
   ]
  },
  {
   "cell_type": "markdown",
   "metadata": {},
   "source": [
    "# We start with the uncertainties in the lower bound and faint end slope\n",
    "\n",
    "* This is done in one of two ways:\n",
    "<ol>\n",
    "<li> Pick a center value. Find sum of squared distances from other values to that center value. Take the square root and then divide by the number of other values. </li>\n",
    "<li> Take all values. Find mean, and find sum of squared distances of all values from that mean. Take square root and divide by N-1 </li>\n",
    "</ol>"
   ]
  },
  {
   "cell_type": "code",
   "execution_count": 2,
   "metadata": {},
   "outputs": [],
   "source": [
    "#these 6 values are for the final M/L values with alpha = -1.3 and -1.4, with lower bounds of 10^-4 and 10^-3\n",
    "#all other parameters are held fixed\n",
    "\n",
    "values = [217.3,270.3,350.9,198.6,233.4,279.6]"
   ]
  },
  {
   "cell_type": "code",
   "execution_count": 22,
   "metadata": {},
   "outputs": [
    {
     "name": "stdout",
     "output_type": "stream",
     "text": [
      "The uncertainty is 25.2, or 9.33% of the center value\n"
     ]
    }
   ],
   "source": [
    "# we start with method 1. We pick the center value as index 1, which was calculated with a slope of -1.3 \n",
    "#and a bound of 10^-4 \n",
    "\n",
    "def rms_center(center_ind,values):\n",
    "    rms = 0.0\n",
    "    for val in values:\n",
    "        dist = val - values[center_ind]\n",
    "        rms += dist**2\n",
    "\n",
    "    rms = (rms**0.5)/(len(values)-1)\n",
    "    print('The uncertainty is {act:.1f}, or {rel:.2f}% of the center value'\\\n",
    "      .format(act = rms,rel=100*rms/values[1]))\n",
    "    \n",
    "    return rms\n",
    "\n",
    "uncert = rms_center(1,values)"
   ]
  },
  {
   "cell_type": "code",
   "execution_count": 25,
   "metadata": {},
   "outputs": [
    {
     "name": "stdout",
     "output_type": "stream",
     "text": [
      "The uncertainty in lower bound and faint-end slope is 24.5, or 9.49% of the mean\n"
     ]
    }
   ],
   "source": [
    "# here's method 2. This just simply uses the mean.\n",
    "def rms_mean(values):\n",
    "    rms_2 = 0.0\n",
    "    mean = np.mean(values)\n",
    "    #print(mean)\n",
    "\n",
    "    for val in values:\n",
    "        dist_sqrd = (val - mean)**2\n",
    "        rms_2 += dist_sqrd\n",
    "\n",
    "    rms_2 = (rms_2**0.5)/(len(values)-1)\n",
    "\n",
    "    print('The uncertainty in lower bound and faint-end slope is {act:.1f}, or {rel:.2f}% of the mean'\\\n",
    "          .format(act = rms_2,rel=100*rms_2/mean))\n",
    "    \n",
    "    return rms_2\n",
    "\n",
    "uncert_mean = rms_mean(values)"
   ]
  },
  {
   "cell_type": "markdown",
   "metadata": {},
   "source": [
    "+ As we can see here, both methods yeild a fairly similar uncertainty.\n",
    "<ol>\n",
    "    <li> Method 1: 25.2 M<sub>sol</sub> L<sub>sol</sub><sup>-1</sup>, 25.2 / 270.3 = 9.33% </li>\n",
    "    <li> Method 2: 24.5 M<sub>sol</sub> L<sub>sol</sub><sup>-1</sup>, 24.5 / 258.35 = 9.49% </li>\n",
    "</ol>"
   ]
  },
  {
   "cell_type": "code",
   "execution_count": null,
   "metadata": {},
   "outputs": [],
   "source": []
  }
 ],
 "metadata": {
  "kernelspec": {
   "display_name": "Python 3",
   "language": "python",
   "name": "python3"
  },
  "language_info": {
   "codemirror_mode": {
    "name": "ipython",
    "version": 3
   },
   "file_extension": ".py",
   "mimetype": "text/x-python",
   "name": "python",
   "nbconvert_exporter": "python",
   "pygments_lexer": "ipython3",
   "version": "3.7.3"
  }
 },
 "nbformat": 4,
 "nbformat_minor": 2
}
