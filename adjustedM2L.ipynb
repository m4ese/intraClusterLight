{
 "cells": [
  {
   "cell_type": "code",
   "execution_count": 27,
   "metadata": {},
   "outputs": [],
   "source": [
    "DENOM = 1.16"
   ]
  },
  {
   "cell_type": "code",
   "execution_count": 28,
   "metadata": {},
   "outputs": [],
   "source": [
    "def term1(brgtE):\n",
    "    ''' calculates the first term of the fraction (aka the integral from 0.19 to infinity)\n",
    "    \n",
    "    Parameter: brgtE is the percentage of bright elliptical galaxies'''\n",
    "    \n",
    "    brgtS = 1- brgtE\n",
    "    term1 = 0.86 * (brgtE*100 + brgtS*50)\n",
    "    print('Bright Mass = {}'.format(term1))\n",
    "    return term1"
   ]
  },
  {
   "cell_type": "code",
   "execution_count": 29,
   "metadata": {},
   "outputs": [],
   "source": [
    "def term2(ftE, ftM):\n",
    "    ''' calculates the second term of the fraction (aka the integral to 0.19)\n",
    "    \n",
    "    Parameters: ftE \n",
    "    the percentage of faint elliptical galaxies\n",
    "    \n",
    "    ftM:\n",
    "    faint mass calculated in the integral'''\n",
    "    \n",
    "    \n",
    "    ftS = 1 - ftE\n",
    "    \n",
    "    term2 = (ftM*ftS + 2*ftM*ftE)\n",
    "    \n",
    "    print('Faint Mass = {}'.format(term2))\n",
    "    return term2"
   ]
  },
  {
   "cell_type": "code",
   "execution_count": 30,
   "metadata": {},
   "outputs": [],
   "source": [
    "def galm2L(brgtE, ftE, ftM):\n",
    "    \n",
    "    return (term1(brgtE) + term2(ftE, ftM))/DENOM"
   ]
  },
  {
   "cell_type": "code",
   "execution_count": 31,
   "metadata": {},
   "outputs": [],
   "source": [
    "def addgas(m2L):\n",
    "    '''adds 15% mass to the current mass to light ratio to account for gas'''\n",
    "    \n",
    "    GASPCT = 0.15\n",
    "    m3L = m2L*0.15 + m2L\n",
    "    return m3L"
   ]
  },
  {
   "cell_type": "code",
   "execution_count": 32,
   "metadata": {},
   "outputs": [],
   "source": [
    "# two different values for the spiral mass in the second integral term\n",
    "\n",
    "case1 = 88.32 # integrated from 0.001 to 0.19\n",
    "case2 = 102.6 # integrated from 0.0001 to 0.19\n",
    "case3 = 120 # from 0\n"
   ]
  },
  {
   "cell_type": "code",
   "execution_count": 33,
   "metadata": {},
   "outputs": [
    {
     "name": "stdout",
     "output_type": "stream",
     "text": [
      "CLUSTER (HIGH DENSITY) CASE\n",
      "\n",
      "CASE 1\n",
      "\n",
      "Bright Mass = 81.7\n",
      "Faint Mass = 132.48\n",
      "cluster mass to light in case 1 = 184.6379310344828\n",
      "plus 15% gas = 212.33362068965522\n",
      "\n",
      "CASE 2 \n",
      "\n",
      "Bright Mass = 81.7\n",
      "Faint Mass = 153.89999999999998\n",
      "cluster mass to light in case 2 = 203.10344827586206\n",
      "plus 15% gas = 233.56896551724137\n",
      "CASE 3 \n",
      "\n",
      "Bright Mass = 81.7\n",
      "Faint Mass = 180.0\n",
      "cluster mass to light in case 3 = 225.60344827586206\n",
      "plus 15% gas = 259.4439655172414\n"
     ]
    }
   ],
   "source": [
    "# case for clusters (high density)\n",
    "print('CLUSTER (HIGH DENSITY) CASE')\n",
    "print()\n",
    "\n",
    "pctBE = 0.9\n",
    "pctFE = 0.5\n",
    "\n",
    "print('CASE 1')\n",
    "print()\n",
    "cluster1 = galm2L(pctBE, pctFE, case1) # cluster mass to light in case 1\n",
    "print('cluster mass to light in case 1 = {}'.format(cluster1))\n",
    "print('plus 15% gas = {}'.format(addgas(cluster1)))\n",
    "print()\n",
    "\n",
    "\n",
    "print('CASE 2 \\n')\n",
    "cluster2 = galm2L(pctBE, pctFE, case2) # cluster mass to light in case 2\n",
    "print('cluster mass to light in case 2 = {}'.format(cluster2))\n",
    "print('plus 15% gas = {}'.format(addgas(cluster2)))\n",
    "\n",
    "print('CASE 3 \\n')\n",
    "cluster3 = galm2L(pctBE, pctFE, case3) # cluster mass to light in case 3\n",
    "print('cluster mass to light in case 3 = {}'.format(cluster3))\n",
    "print('plus 15% gas = {}'.format(addgas(cluster3)))"
   ]
  },
  {
   "cell_type": "code",
   "execution_count": 34,
   "metadata": {},
   "outputs": [
    {
     "name": "stdout",
     "output_type": "stream",
     "text": [
      "LSS (LOW DENSITY) CASE with 30% BRIGHT ELLIPTICALS and 20% FAINT ELLIPTICALS \n",
      "\n",
      "CASE 1 \n",
      "\n",
      "Bright Mass = 55.9\n",
      "Faint Mass = 105.98399999999998\n",
      "LSS mass to light in case 1 with 30% bright and 20% faint ellipticals  = 139.5551724137931\n",
      "plus 15% gas = 160.48844827586205\n",
      "\n",
      "CASE 2 \n",
      "\n",
      "Bright Mass = 55.9\n",
      "Faint Mass = 123.12\n",
      "cluster mass to light in case 2 with 30% bright and 20% faint ellipticals= 154.32758620689657\n",
      "plus 15% gas = 177.47672413793106\n",
      "CASE 3 \n",
      "\n",
      "Bright Mass = 55.9\n",
      "Faint Mass = 144.0\n",
      "cluster mass to light in case 3 with 30% bright and 20% faint ellipticals= 172.32758620689657\n",
      "plus 15% gas = 198.17672413793105\n"
     ]
    }
   ],
   "source": [
    "# a few cases for LSS (lower density)\n",
    "print('LSS (LOW DENSITY) CASE with 30% BRIGHT ELLIPTICALS and 20% FAINT ELLIPTICALS \\n')\n",
    "\n",
    "pctLSSB1 = 0.30\n",
    "pctLSSF1 = 0.20\n",
    "\n",
    "print('CASE 1 \\n')\n",
    "LSS1 = galm2L(pctLSSB1, pctLSSF1, case1) # cluster mass to light in case 1\n",
    "print('LSS mass to light in case 1 with 30% bright and 20% faint ellipticals  = {}'.format(LSS1))\n",
    "print('plus 15% gas = {}'.format(addgas(LSS1)))\n",
    "print()\n",
    "\n",
    "print('CASE 2 \\n')\n",
    "LSS2 = galm2L(pctLSSB1, pctLSSF1, case2) # cluster mass to light in case 2\n",
    "print('cluster mass to light in case 2 with 30% bright and 20% faint ellipticals= {}'.format(LSS2))\n",
    "print('plus 15% gas = {}'.format(addgas(LSS2)))\n",
    "\n",
    "print('CASE 3 \\n')\n",
    "LSS3 = galm2L(pctLSSB1, pctLSSF1, case3) # cluster mass to light in case 2\n",
    "print('cluster mass to light in case 3 with 30% bright and 20% faint ellipticals= {}'.format(LSS3))\n",
    "print('plus 15% gas = {}'.format(addgas(LSS3)))"
   ]
  },
  {
   "cell_type": "code",
   "execution_count": 35,
   "metadata": {},
   "outputs": [
    {
     "name": "stdout",
     "output_type": "stream",
     "text": [
      "LSS (LOW DENSITY) CASE with 20% BRIGHT ELLIPTICALS and 20% FAINT ELLIPTICALS \n",
      "\n",
      "CASE 1 \n",
      "\n",
      "Bright Mass = 51.6\n",
      "Faint Mass = 105.98399999999998\n",
      "LSS mass to light in case 1 with 20% bright and 20% faint ellipticals  = 135.84827586206896\n",
      "plus 15% gas = 156.2255172413793\n",
      "\n",
      "CASE 2 \n",
      "\n",
      "Bright Mass = 51.6\n",
      "Faint Mass = 123.12\n",
      "LSS mass to light in case 2 with 20% bright and 20% faint ellipticals= 150.6206896551724\n",
      "plus 15% gas = 173.21379310344827\n",
      "CASE 3 \n",
      "\n",
      "Bright Mass = 51.6\n",
      "Faint Mass = 144.0\n",
      "LSS mass to light in case 3 with 20% bright and 20% faint ellipticals= 168.6206896551724\n",
      "plus 15% gas = 193.91379310344828\n"
     ]
    }
   ],
   "source": [
    "print('LSS (LOW DENSITY) CASE with 20% BRIGHT ELLIPTICALS and 20% FAINT ELLIPTICALS \\n')\n",
    "\n",
    "pctLSSB2 = 0.20\n",
    "pctLSSF2 = 0.20\n",
    "\n",
    "print('CASE 1 \\n')\n",
    "LSS3 = galm2L(pctLSSB2, pctLSSF2, case1) # cluster mass to light in case 1\n",
    "print('LSS mass to light in case 1 with 20% bright and 20% faint ellipticals  = {}'.format(LSS3))\n",
    "print('plus 15% gas = {}'.format(addgas(LSS3)))\n",
    "print()\n",
    "\n",
    "print('CASE 2 \\n')\n",
    "LSS4 = galm2L(pctLSSB2, pctLSSF2, case2) # cluster mass to light in case 2\n",
    "print('LSS mass to light in case 2 with 20% bright and 20% faint ellipticals= {}'.format(LSS4))\n",
    "print('plus 15% gas = {}'.format(addgas(LSS4)))\n",
    "\n",
    "print('CASE 3 \\n')\n",
    "LSS5 = galm2L(pctLSSB2, pctLSSF2, case3) # cluster mass to light in case 2\n",
    "print('LSS mass to light in case 3 with 20% bright and 20% faint ellipticals= {}'.format(LSS5))\n",
    "print('plus 15% gas = {}'.format(addgas(LSS5)))\n"
   ]
  },
  {
   "cell_type": "code",
   "execution_count": 36,
   "metadata": {},
   "outputs": [
    {
     "name": "stdout",
     "output_type": "stream",
     "text": [
      "CASE 1 \n",
      "\n",
      "Bright Mass = 81.7\n",
      "Faint Mass = 154.56\n",
      "Cluster mass to light in case 1 with 90% bright and 75% faint ellipticals  = 203.67241379310346\n",
      "plus 15% gas = 234.223275862069\n",
      "\n",
      "CASE 2 \n",
      "\n",
      "Bright Mass = 81.7\n",
      "Faint Mass = 179.54999999999998\n",
      "Cluster mass to light in case 2 with 90% bright and 75% faint ellipticals  = 225.21551724137933\n",
      "plus 15% gas = 258.9978448275862\n",
      "\n",
      "CASE 3 \n",
      "\n",
      "Bright Mass = 81.7\n",
      "Faint Mass = 210.0\n",
      "Cluster mass to light in case 3 with 90% bright and 75% faint ellipticals  = 251.46551724137933\n",
      "plus 15% gas = 289.1853448275862\n",
      "\n"
     ]
    }
   ],
   "source": [
    "# another cluster case\n",
    "pctBE9 = 0.9\n",
    "pctFE9 = 0.75\n",
    "\n",
    "print('CASE 1 \\n')\n",
    "BE9 = galm2L(pctBE9, pctFE9, case1) # cluster mass to light in case 1\n",
    "print('Cluster mass to light in case 1 with 90% bright and 75% faint ellipticals  = {}'.format(BE9))\n",
    "print('plus 15% gas = {}'.format(addgas(BE9)))\n",
    "print()\n",
    "\n",
    "print('CASE 2 \\n')\n",
    "BE92 = galm2L(pctBE9, pctFE9, case2) # cluster mass to light in case 2\n",
    "print('Cluster mass to light in case 2 with 90% bright and 75% faint ellipticals  = {}'.format(BE92))\n",
    "print('plus 15% gas = {}'.format(addgas(BE92)))\n",
    "print()\n",
    "\n",
    "print('CASE 3 \\n')\n",
    "BE93 = galm2L(pctBE9, pctFE9, case3) # cluster mass to light in case 3\n",
    "print('Cluster mass to light in case 3 with 90% bright and 75% faint ellipticals  = {}'.format(BE93))\n",
    "print('plus 15% gas = {}'.format(addgas(BE93)))\n",
    "print()"
   ]
  }
 ],
 "metadata": {
  "kernelspec": {
   "display_name": "Python 3",
   "language": "python",
   "name": "python3"
  },
  "language_info": {
   "codemirror_mode": {
    "name": "ipython",
    "version": 3
   },
   "file_extension": ".py",
   "mimetype": "text/x-python",
   "name": "python",
   "nbconvert_exporter": "python",
   "pygments_lexer": "ipython3",
   "version": "3.7.3"
  }
 },
 "nbformat": 4,
 "nbformat_minor": 2
}
